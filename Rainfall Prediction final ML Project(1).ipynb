{
 "cells": [
  {
   "cell_type": "markdown",
   "id": "1589b5c9",
   "metadata": {},
   "source": [
    "FINAL MACHINE LEARNING PROJECT(INTERNSHALA)"
   ]
  },
  {
   "cell_type": "markdown",
   "id": "7548eb58",
   "metadata": {},
   "source": [
    "IMPORTING LIBRERY"
   ]
  },
  {
   "cell_type": "code",
   "execution_count": 1,
   "id": "e2a399aa",
   "metadata": {},
   "outputs": [],
   "source": [
    "#importing all required library\n",
    "\n",
    "import pandas as pd\n",
    "import numpy as np\n",
    "import seaborn as sns\n",
    "import matplotlib.pyplot as plt"
   ]
  },
  {
   "cell_type": "code",
   "execution_count": 2,
   "id": "58c636b2",
   "metadata": {},
   "outputs": [],
   "source": [
    "#importing data set\n",
    "\n",
    "df=pd.read_csv(\"Downloads\\sydney_rain-prediction.csv\",header=0)"
   ]
  },
  {
   "cell_type": "code",
   "execution_count": 3,
   "id": "883dd62d",
   "metadata": {},
   "outputs": [
    {
     "data": {
      "text/html": [
       "<div>\n",
       "<style scoped>\n",
       "    .dataframe tbody tr th:only-of-type {\n",
       "        vertical-align: middle;\n",
       "    }\n",
       "\n",
       "    .dataframe tbody tr th {\n",
       "        vertical-align: top;\n",
       "    }\n",
       "\n",
       "    .dataframe thead th {\n",
       "        text-align: right;\n",
       "    }\n",
       "</style>\n",
       "<table border=\"1\" class=\"dataframe\">\n",
       "  <thead>\n",
       "    <tr style=\"text-align: right;\">\n",
       "      <th></th>\n",
       "      <th>Date</th>\n",
       "      <th>Location</th>\n",
       "      <th>MinTemp</th>\n",
       "      <th>MaxTemp</th>\n",
       "      <th>Rainfall</th>\n",
       "      <th>Evaporation</th>\n",
       "      <th>Sunshine</th>\n",
       "      <th>Humidity9am</th>\n",
       "      <th>Humidity3pm</th>\n",
       "      <th>Pressure9am</th>\n",
       "      <th>Pressure3pm</th>\n",
       "      <th>Cloud9am</th>\n",
       "      <th>Cloud3pm</th>\n",
       "      <th>Temp9am</th>\n",
       "      <th>Temp3pm</th>\n",
       "      <th>RainToday</th>\n",
       "      <th>RainTomorrow</th>\n",
       "    </tr>\n",
       "  </thead>\n",
       "  <tbody>\n",
       "    <tr>\n",
       "      <th>0</th>\n",
       "      <td>2/1/2008</td>\n",
       "      <td>Sydney</td>\n",
       "      <td>19.5</td>\n",
       "      <td>22.4</td>\n",
       "      <td>15.6</td>\n",
       "      <td>6.2</td>\n",
       "      <td>0.0</td>\n",
       "      <td>92.0</td>\n",
       "      <td>84.0</td>\n",
       "      <td>1017.6</td>\n",
       "      <td>1017.4</td>\n",
       "      <td>8.0</td>\n",
       "      <td>8.0</td>\n",
       "      <td>20.7</td>\n",
       "      <td>20.9</td>\n",
       "      <td>Yes</td>\n",
       "      <td>Yes</td>\n",
       "    </tr>\n",
       "    <tr>\n",
       "      <th>1</th>\n",
       "      <td>2/2/2008</td>\n",
       "      <td>Sydney</td>\n",
       "      <td>19.5</td>\n",
       "      <td>25.6</td>\n",
       "      <td>6.0</td>\n",
       "      <td>3.4</td>\n",
       "      <td>2.7</td>\n",
       "      <td>83.0</td>\n",
       "      <td>73.0</td>\n",
       "      <td>1017.9</td>\n",
       "      <td>1016.4</td>\n",
       "      <td>7.0</td>\n",
       "      <td>7.0</td>\n",
       "      <td>22.4</td>\n",
       "      <td>24.8</td>\n",
       "      <td>Yes</td>\n",
       "      <td>Yes</td>\n",
       "    </tr>\n",
       "    <tr>\n",
       "      <th>2</th>\n",
       "      <td>2/3/2008</td>\n",
       "      <td>Sydney</td>\n",
       "      <td>21.6</td>\n",
       "      <td>24.5</td>\n",
       "      <td>6.6</td>\n",
       "      <td>2.4</td>\n",
       "      <td>0.1</td>\n",
       "      <td>88.0</td>\n",
       "      <td>86.0</td>\n",
       "      <td>1016.7</td>\n",
       "      <td>1015.6</td>\n",
       "      <td>7.0</td>\n",
       "      <td>8.0</td>\n",
       "      <td>23.5</td>\n",
       "      <td>23.0</td>\n",
       "      <td>Yes</td>\n",
       "      <td>Yes</td>\n",
       "    </tr>\n",
       "    <tr>\n",
       "      <th>3</th>\n",
       "      <td>2/4/2008</td>\n",
       "      <td>Sydney</td>\n",
       "      <td>20.2</td>\n",
       "      <td>22.8</td>\n",
       "      <td>18.8</td>\n",
       "      <td>2.2</td>\n",
       "      <td>0.0</td>\n",
       "      <td>83.0</td>\n",
       "      <td>90.0</td>\n",
       "      <td>1014.2</td>\n",
       "      <td>1011.8</td>\n",
       "      <td>8.0</td>\n",
       "      <td>8.0</td>\n",
       "      <td>21.4</td>\n",
       "      <td>20.9</td>\n",
       "      <td>Yes</td>\n",
       "      <td>Yes</td>\n",
       "    </tr>\n",
       "    <tr>\n",
       "      <th>4</th>\n",
       "      <td>2/5/2008</td>\n",
       "      <td>Sydney</td>\n",
       "      <td>19.7</td>\n",
       "      <td>25.7</td>\n",
       "      <td>77.4</td>\n",
       "      <td>NaN</td>\n",
       "      <td>0.0</td>\n",
       "      <td>88.0</td>\n",
       "      <td>74.0</td>\n",
       "      <td>1008.3</td>\n",
       "      <td>1004.8</td>\n",
       "      <td>8.0</td>\n",
       "      <td>8.0</td>\n",
       "      <td>22.5</td>\n",
       "      <td>25.5</td>\n",
       "      <td>Yes</td>\n",
       "      <td>Yes</td>\n",
       "    </tr>\n",
       "  </tbody>\n",
       "</table>\n",
       "</div>"
      ],
      "text/plain": [
       "       Date Location  MinTemp  MaxTemp  Rainfall  Evaporation  Sunshine  \\\n",
       "0  2/1/2008   Sydney     19.5     22.4      15.6          6.2       0.0   \n",
       "1  2/2/2008   Sydney     19.5     25.6       6.0          3.4       2.7   \n",
       "2  2/3/2008   Sydney     21.6     24.5       6.6          2.4       0.1   \n",
       "3  2/4/2008   Sydney     20.2     22.8      18.8          2.2       0.0   \n",
       "4  2/5/2008   Sydney     19.7     25.7      77.4          NaN       0.0   \n",
       "\n",
       "   Humidity9am  Humidity3pm  Pressure9am  Pressure3pm  Cloud9am  Cloud3pm  \\\n",
       "0         92.0         84.0       1017.6       1017.4       8.0       8.0   \n",
       "1         83.0         73.0       1017.9       1016.4       7.0       7.0   \n",
       "2         88.0         86.0       1016.7       1015.6       7.0       8.0   \n",
       "3         83.0         90.0       1014.2       1011.8       8.0       8.0   \n",
       "4         88.0         74.0       1008.3       1004.8       8.0       8.0   \n",
       "\n",
       "   Temp9am  Temp3pm RainToday RainTomorrow  \n",
       "0     20.7     20.9       Yes          Yes  \n",
       "1     22.4     24.8       Yes          Yes  \n",
       "2     23.5     23.0       Yes          Yes  \n",
       "3     21.4     20.9       Yes          Yes  \n",
       "4     22.5     25.5       Yes          Yes  "
      ]
     },
     "execution_count": 3,
     "metadata": {},
     "output_type": "execute_result"
    }
   ],
   "source": [
    "#display 1st 5 rows\n",
    "df.head()"
   ]
  },
  {
   "cell_type": "code",
   "execution_count": 4,
   "id": "1c25907d",
   "metadata": {},
   "outputs": [
    {
     "data": {
      "text/html": [
       "<div>\n",
       "<style scoped>\n",
       "    .dataframe tbody tr th:only-of-type {\n",
       "        vertical-align: middle;\n",
       "    }\n",
       "\n",
       "    .dataframe tbody tr th {\n",
       "        vertical-align: top;\n",
       "    }\n",
       "\n",
       "    .dataframe thead th {\n",
       "        text-align: right;\n",
       "    }\n",
       "</style>\n",
       "<table border=\"1\" class=\"dataframe\">\n",
       "  <thead>\n",
       "    <tr style=\"text-align: right;\">\n",
       "      <th></th>\n",
       "      <th>Date</th>\n",
       "      <th>Location</th>\n",
       "      <th>MinTemp</th>\n",
       "      <th>MaxTemp</th>\n",
       "      <th>Rainfall</th>\n",
       "      <th>Evaporation</th>\n",
       "      <th>Sunshine</th>\n",
       "      <th>Humidity9am</th>\n",
       "      <th>Humidity3pm</th>\n",
       "      <th>Pressure9am</th>\n",
       "      <th>Pressure3pm</th>\n",
       "      <th>Cloud9am</th>\n",
       "      <th>Cloud3pm</th>\n",
       "      <th>Temp9am</th>\n",
       "      <th>Temp3pm</th>\n",
       "      <th>RainToday</th>\n",
       "      <th>RainTomorrow</th>\n",
       "    </tr>\n",
       "  </thead>\n",
       "  <tbody>\n",
       "    <tr>\n",
       "      <th>3332</th>\n",
       "      <td>6/21/2017</td>\n",
       "      <td>Sydney</td>\n",
       "      <td>8.6</td>\n",
       "      <td>19.6</td>\n",
       "      <td>0.0</td>\n",
       "      <td>2.0</td>\n",
       "      <td>7.8</td>\n",
       "      <td>73.0</td>\n",
       "      <td>52.0</td>\n",
       "      <td>1025.9</td>\n",
       "      <td>1025.3</td>\n",
       "      <td>2.0</td>\n",
       "      <td>2.0</td>\n",
       "      <td>10.5</td>\n",
       "      <td>17.9</td>\n",
       "      <td>No</td>\n",
       "      <td>No</td>\n",
       "    </tr>\n",
       "    <tr>\n",
       "      <th>3333</th>\n",
       "      <td>6/22/2017</td>\n",
       "      <td>Sydney</td>\n",
       "      <td>9.3</td>\n",
       "      <td>19.2</td>\n",
       "      <td>0.0</td>\n",
       "      <td>2.0</td>\n",
       "      <td>9.2</td>\n",
       "      <td>78.0</td>\n",
       "      <td>53.0</td>\n",
       "      <td>1028.5</td>\n",
       "      <td>1024.6</td>\n",
       "      <td>2.0</td>\n",
       "      <td>2.0</td>\n",
       "      <td>11.0</td>\n",
       "      <td>18.7</td>\n",
       "      <td>No</td>\n",
       "      <td>No</td>\n",
       "    </tr>\n",
       "    <tr>\n",
       "      <th>3334</th>\n",
       "      <td>6/23/2017</td>\n",
       "      <td>Sydney</td>\n",
       "      <td>9.4</td>\n",
       "      <td>17.7</td>\n",
       "      <td>0.0</td>\n",
       "      <td>2.4</td>\n",
       "      <td>2.7</td>\n",
       "      <td>85.0</td>\n",
       "      <td>56.0</td>\n",
       "      <td>1020.8</td>\n",
       "      <td>1015.0</td>\n",
       "      <td>6.0</td>\n",
       "      <td>6.0</td>\n",
       "      <td>10.2</td>\n",
       "      <td>17.3</td>\n",
       "      <td>No</td>\n",
       "      <td>No</td>\n",
       "    </tr>\n",
       "    <tr>\n",
       "      <th>3335</th>\n",
       "      <td>6/24/2017</td>\n",
       "      <td>Sydney</td>\n",
       "      <td>10.1</td>\n",
       "      <td>19.3</td>\n",
       "      <td>0.0</td>\n",
       "      <td>1.4</td>\n",
       "      <td>9.3</td>\n",
       "      <td>56.0</td>\n",
       "      <td>35.0</td>\n",
       "      <td>1017.3</td>\n",
       "      <td>1015.1</td>\n",
       "      <td>5.0</td>\n",
       "      <td>2.0</td>\n",
       "      <td>12.4</td>\n",
       "      <td>19.0</td>\n",
       "      <td>No</td>\n",
       "      <td>No</td>\n",
       "    </tr>\n",
       "    <tr>\n",
       "      <th>3336</th>\n",
       "      <td>6/25/2017</td>\n",
       "      <td>Sydney</td>\n",
       "      <td>7.6</td>\n",
       "      <td>19.3</td>\n",
       "      <td>0.0</td>\n",
       "      <td>3.4</td>\n",
       "      <td>9.4</td>\n",
       "      <td>73.0</td>\n",
       "      <td>32.0</td>\n",
       "      <td>1018.6</td>\n",
       "      <td>1015.4</td>\n",
       "      <td>1.0</td>\n",
       "      <td>1.0</td>\n",
       "      <td>9.4</td>\n",
       "      <td>18.8</td>\n",
       "      <td>No</td>\n",
       "      <td>No</td>\n",
       "    </tr>\n",
       "  </tbody>\n",
       "</table>\n",
       "</div>"
      ],
      "text/plain": [
       "           Date Location  MinTemp  MaxTemp  Rainfall  Evaporation  Sunshine  \\\n",
       "3332  6/21/2017   Sydney      8.6     19.6       0.0          2.0       7.8   \n",
       "3333  6/22/2017   Sydney      9.3     19.2       0.0          2.0       9.2   \n",
       "3334  6/23/2017   Sydney      9.4     17.7       0.0          2.4       2.7   \n",
       "3335  6/24/2017   Sydney     10.1     19.3       0.0          1.4       9.3   \n",
       "3336  6/25/2017   Sydney      7.6     19.3       0.0          3.4       9.4   \n",
       "\n",
       "      Humidity9am  Humidity3pm  Pressure9am  Pressure3pm  Cloud9am  Cloud3pm  \\\n",
       "3332         73.0         52.0       1025.9       1025.3       2.0       2.0   \n",
       "3333         78.0         53.0       1028.5       1024.6       2.0       2.0   \n",
       "3334         85.0         56.0       1020.8       1015.0       6.0       6.0   \n",
       "3335         56.0         35.0       1017.3       1015.1       5.0       2.0   \n",
       "3336         73.0         32.0       1018.6       1015.4       1.0       1.0   \n",
       "\n",
       "      Temp9am  Temp3pm RainToday RainTomorrow  \n",
       "3332     10.5     17.9        No           No  \n",
       "3333     11.0     18.7        No           No  \n",
       "3334     10.2     17.3        No           No  \n",
       "3335     12.4     19.0        No           No  \n",
       "3336      9.4     18.8        No           No  "
      ]
     },
     "execution_count": 4,
     "metadata": {},
     "output_type": "execute_result"
    }
   ],
   "source": [
    "#display last 5 rows\n",
    "df.tail()"
   ]
  },
  {
   "cell_type": "code",
   "execution_count": 5,
   "id": "990cd70d",
   "metadata": {},
   "outputs": [
    {
     "name": "stdout",
     "output_type": "stream",
     "text": [
      "['MinTemp', 'MaxTemp', 'Rainfall', 'Evaporation', 'Sunshine', 'Humidity9am', 'Humidity3pm', 'Pressure9am', 'Pressure3pm', 'Cloud9am', 'Cloud3pm', 'Temp9am', 'Temp3pm']\n"
     ]
    }
   ],
   "source": [
    "#displaying all the column of the dataframe\n",
    "features = list(df.select_dtypes(include = np.number).columns)\n",
    "\n",
    "print(features)"
   ]
  },
  {
   "cell_type": "code",
   "execution_count": 6,
   "id": "c9a01607",
   "metadata": {},
   "outputs": [],
   "source": [
    "#converting Date column into string type\n",
    "\n",
    "df['Date']=df['Date'].astype(str)"
   ]
  },
  {
   "cell_type": "code",
   "execution_count": 7,
   "id": "b8e9cfb1",
   "metadata": {},
   "outputs": [
    {
     "name": "stderr",
     "output_type": "stream",
     "text": [
      "C:\\Users\\PALLAVI\\AppData\\Local\\Temp\\ipykernel_6032\\1964228142.py:3: FutureWarning: The default value of regex will change from True to False in a future version.\n",
      "  df.Date = df.Date.str.replace('[/]', '')\n"
     ]
    }
   ],
   "source": [
    "#Removing special character from Date column for converting into a float column\n",
    "\n",
    "df.Date = df.Date.str.replace('[/]', '')"
   ]
  },
  {
   "cell_type": "code",
   "execution_count": 8,
   "id": "a4d5b828",
   "metadata": {},
   "outputs": [],
   "source": [
    "#Convert Date column to float(before it was a string column)\n",
    "\n",
    "df['Date']=df['Date'].astype(float)"
   ]
  },
  {
   "cell_type": "code",
   "execution_count": 9,
   "id": "ce9b0e23",
   "metadata": {},
   "outputs": [],
   "source": [
    "#replace Location column with 1 which contain value sydney and change its data type object to int \n",
    "\n",
    "df['Location'].replace(['Sydney'],[1], inplace=True)"
   ]
  },
  {
   "cell_type": "code",
   "execution_count": 10,
   "id": "ffd1aaab",
   "metadata": {},
   "outputs": [
    {
     "data": {
      "text/html": [
       "<div>\n",
       "<style scoped>\n",
       "    .dataframe tbody tr th:only-of-type {\n",
       "        vertical-align: middle;\n",
       "    }\n",
       "\n",
       "    .dataframe tbody tr th {\n",
       "        vertical-align: top;\n",
       "    }\n",
       "\n",
       "    .dataframe thead th {\n",
       "        text-align: right;\n",
       "    }\n",
       "</style>\n",
       "<table border=\"1\" class=\"dataframe\">\n",
       "  <thead>\n",
       "    <tr style=\"text-align: right;\">\n",
       "      <th></th>\n",
       "      <th>Date</th>\n",
       "      <th>Location</th>\n",
       "      <th>MinTemp</th>\n",
       "      <th>MaxTemp</th>\n",
       "      <th>Rainfall</th>\n",
       "      <th>Evaporation</th>\n",
       "      <th>Sunshine</th>\n",
       "      <th>Humidity9am</th>\n",
       "      <th>Humidity3pm</th>\n",
       "      <th>Pressure9am</th>\n",
       "      <th>Pressure3pm</th>\n",
       "      <th>Cloud9am</th>\n",
       "      <th>Cloud3pm</th>\n",
       "      <th>Temp9am</th>\n",
       "      <th>Temp3pm</th>\n",
       "      <th>RainToday</th>\n",
       "      <th>RainTomorrow</th>\n",
       "    </tr>\n",
       "  </thead>\n",
       "  <tbody>\n",
       "    <tr>\n",
       "      <th>0</th>\n",
       "      <td>212008.0</td>\n",
       "      <td>1</td>\n",
       "      <td>19.5</td>\n",
       "      <td>22.4</td>\n",
       "      <td>15.6</td>\n",
       "      <td>6.2</td>\n",
       "      <td>0.0</td>\n",
       "      <td>92.0</td>\n",
       "      <td>84.0</td>\n",
       "      <td>1017.6</td>\n",
       "      <td>1017.4</td>\n",
       "      <td>8.0</td>\n",
       "      <td>8.0</td>\n",
       "      <td>20.7</td>\n",
       "      <td>20.9</td>\n",
       "      <td>Yes</td>\n",
       "      <td>Yes</td>\n",
       "    </tr>\n",
       "    <tr>\n",
       "      <th>1</th>\n",
       "      <td>222008.0</td>\n",
       "      <td>1</td>\n",
       "      <td>19.5</td>\n",
       "      <td>25.6</td>\n",
       "      <td>6.0</td>\n",
       "      <td>3.4</td>\n",
       "      <td>2.7</td>\n",
       "      <td>83.0</td>\n",
       "      <td>73.0</td>\n",
       "      <td>1017.9</td>\n",
       "      <td>1016.4</td>\n",
       "      <td>7.0</td>\n",
       "      <td>7.0</td>\n",
       "      <td>22.4</td>\n",
       "      <td>24.8</td>\n",
       "      <td>Yes</td>\n",
       "      <td>Yes</td>\n",
       "    </tr>\n",
       "    <tr>\n",
       "      <th>2</th>\n",
       "      <td>232008.0</td>\n",
       "      <td>1</td>\n",
       "      <td>21.6</td>\n",
       "      <td>24.5</td>\n",
       "      <td>6.6</td>\n",
       "      <td>2.4</td>\n",
       "      <td>0.1</td>\n",
       "      <td>88.0</td>\n",
       "      <td>86.0</td>\n",
       "      <td>1016.7</td>\n",
       "      <td>1015.6</td>\n",
       "      <td>7.0</td>\n",
       "      <td>8.0</td>\n",
       "      <td>23.5</td>\n",
       "      <td>23.0</td>\n",
       "      <td>Yes</td>\n",
       "      <td>Yes</td>\n",
       "    </tr>\n",
       "    <tr>\n",
       "      <th>3</th>\n",
       "      <td>242008.0</td>\n",
       "      <td>1</td>\n",
       "      <td>20.2</td>\n",
       "      <td>22.8</td>\n",
       "      <td>18.8</td>\n",
       "      <td>2.2</td>\n",
       "      <td>0.0</td>\n",
       "      <td>83.0</td>\n",
       "      <td>90.0</td>\n",
       "      <td>1014.2</td>\n",
       "      <td>1011.8</td>\n",
       "      <td>8.0</td>\n",
       "      <td>8.0</td>\n",
       "      <td>21.4</td>\n",
       "      <td>20.9</td>\n",
       "      <td>Yes</td>\n",
       "      <td>Yes</td>\n",
       "    </tr>\n",
       "    <tr>\n",
       "      <th>4</th>\n",
       "      <td>252008.0</td>\n",
       "      <td>1</td>\n",
       "      <td>19.7</td>\n",
       "      <td>25.7</td>\n",
       "      <td>77.4</td>\n",
       "      <td>NaN</td>\n",
       "      <td>0.0</td>\n",
       "      <td>88.0</td>\n",
       "      <td>74.0</td>\n",
       "      <td>1008.3</td>\n",
       "      <td>1004.8</td>\n",
       "      <td>8.0</td>\n",
       "      <td>8.0</td>\n",
       "      <td>22.5</td>\n",
       "      <td>25.5</td>\n",
       "      <td>Yes</td>\n",
       "      <td>Yes</td>\n",
       "    </tr>\n",
       "  </tbody>\n",
       "</table>\n",
       "</div>"
      ],
      "text/plain": [
       "       Date  Location  MinTemp  MaxTemp  Rainfall  Evaporation  Sunshine  \\\n",
       "0  212008.0         1     19.5     22.4      15.6          6.2       0.0   \n",
       "1  222008.0         1     19.5     25.6       6.0          3.4       2.7   \n",
       "2  232008.0         1     21.6     24.5       6.6          2.4       0.1   \n",
       "3  242008.0         1     20.2     22.8      18.8          2.2       0.0   \n",
       "4  252008.0         1     19.7     25.7      77.4          NaN       0.0   \n",
       "\n",
       "   Humidity9am  Humidity3pm  Pressure9am  Pressure3pm  Cloud9am  Cloud3pm  \\\n",
       "0         92.0         84.0       1017.6       1017.4       8.0       8.0   \n",
       "1         83.0         73.0       1017.9       1016.4       7.0       7.0   \n",
       "2         88.0         86.0       1016.7       1015.6       7.0       8.0   \n",
       "3         83.0         90.0       1014.2       1011.8       8.0       8.0   \n",
       "4         88.0         74.0       1008.3       1004.8       8.0       8.0   \n",
       "\n",
       "   Temp9am  Temp3pm RainToday RainTomorrow  \n",
       "0     20.7     20.9       Yes          Yes  \n",
       "1     22.4     24.8       Yes          Yes  \n",
       "2     23.5     23.0       Yes          Yes  \n",
       "3     21.4     20.9       Yes          Yes  \n",
       "4     22.5     25.5       Yes          Yes  "
      ]
     },
     "execution_count": 10,
     "metadata": {},
     "output_type": "execute_result"
    }
   ],
   "source": [
    "df.head()"
   ]
  },
  {
   "cell_type": "markdown",
   "id": "1c986eca",
   "metadata": {},
   "source": [
    "DATA CLEANING"
   ]
  },
  {
   "cell_type": "code",
   "execution_count": 11,
   "id": "b30305f7",
   "metadata": {},
   "outputs": [
    {
     "name": "stdout",
     "output_type": "stream",
     "text": [
      "<class 'pandas.core.frame.DataFrame'>\n",
      "RangeIndex: 3337 entries, 0 to 3336\n",
      "Data columns (total 17 columns):\n",
      " #   Column        Non-Null Count  Dtype  \n",
      "---  ------        --------------  -----  \n",
      " 0   Date          3337 non-null   float64\n",
      " 1   Location      3337 non-null   int64  \n",
      " 2   MinTemp       3334 non-null   float64\n",
      " 3   MaxTemp       3335 non-null   float64\n",
      " 4   Rainfall      3331 non-null   float64\n",
      " 5   Evaporation   3286 non-null   float64\n",
      " 6   Sunshine      3321 non-null   float64\n",
      " 7   Humidity9am   3323 non-null   float64\n",
      " 8   Humidity3pm   3324 non-null   float64\n",
      " 9   Pressure9am   3317 non-null   float64\n",
      " 10  Pressure3pm   3318 non-null   float64\n",
      " 11  Cloud9am      2771 non-null   float64\n",
      " 12  Cloud3pm      2776 non-null   float64\n",
      " 13  Temp9am       3333 non-null   float64\n",
      " 14  Temp3pm       3333 non-null   float64\n",
      " 15  RainToday     3331 non-null   object \n",
      " 16  RainTomorrow  3337 non-null   object \n",
      "dtypes: float64(14), int64(1), object(2)\n",
      "memory usage: 443.3+ KB\n"
     ]
    }
   ],
   "source": [
    "#display information of all the column with its data type\n",
    "df.info()"
   ]
  },
  {
   "cell_type": "code",
   "execution_count": 12,
   "id": "9ea93824",
   "metadata": {},
   "outputs": [
    {
     "data": {
      "text/plain": [
       "Date              0\n",
       "Location          0\n",
       "MinTemp           3\n",
       "MaxTemp           2\n",
       "Rainfall          6\n",
       "Evaporation      51\n",
       "Sunshine         16\n",
       "Humidity9am      14\n",
       "Humidity3pm      13\n",
       "Pressure9am      20\n",
       "Pressure3pm      19\n",
       "Cloud9am        566\n",
       "Cloud3pm        561\n",
       "Temp9am           4\n",
       "Temp3pm           4\n",
       "RainToday         6\n",
       "RainTomorrow      0\n",
       "dtype: int64"
      ]
     },
     "execution_count": 12,
     "metadata": {},
     "output_type": "execute_result"
    }
   ],
   "source": [
    "#display the column if contains null/missing value values\n",
    "df.isnull().sum()"
   ]
  },
  {
   "cell_type": "markdown",
   "id": "9bf69f53",
   "metadata": {},
   "source": [
    "MISSING VALUE IMPUTATION"
   ]
  },
  {
   "cell_type": "code",
   "execution_count": 13,
   "id": "3efef622",
   "metadata": {},
   "outputs": [],
   "source": [
    "#filing the missing value with the mean of that column\n",
    "\n",
    "df.MinTemp=df.MinTemp.fillna(df.MinTemp.mean())\n",
    "df.MaxTemp=df.MinTemp.fillna(df.MaxTemp.mean())\n",
    "df.Rainfall=df.Rainfall.fillna(df.Rainfall.mean())\n",
    "df.Evaporation=df.Evaporation.fillna(df.Evaporation.mean())\n",
    "df.Sunshine=df.Sunshine.fillna(df.Sunshine.mean())\n",
    "df.Humidity9am=df.Humidity9am.fillna(df.Humidity9am.mean())\n",
    "df.Humidity3pm=df.Humidity3pm.fillna(df.Humidity3pm.mean())\n",
    "df.Pressure9am=df.Pressure9am.fillna(df.Pressure9am.mean())\n",
    "df.Pressure3pm=df.Pressure3pm.fillna(df.Pressure3pm.mean())\n",
    "df.Cloud9am=df.Cloud9am.fillna(df.Cloud9am.mean())\n",
    "df.Cloud3pm=df.Cloud3pm.fillna(df.Cloud3pm.mean())\n",
    "df.Temp9am=df.Temp9am.fillna(df.Temp9am.mean())\n",
    "df.Temp3pm=df.Temp3pm.fillna(df.Temp3pm.mean())\n"
   ]
  },
  {
   "cell_type": "code",
   "execution_count": 14,
   "id": "04851043",
   "metadata": {},
   "outputs": [],
   "source": [
    "#applying lambda function as one column(RainToday) cannot be fill with mean value \n",
    "\n",
    "df = df.apply(lambda x: x.fillna(x.value_counts().index[0]))"
   ]
  },
  {
   "cell_type": "code",
   "execution_count": 15,
   "id": "1d2ed876",
   "metadata": {},
   "outputs": [
    {
     "data": {
      "text/plain": [
       "Date            0\n",
       "Location        0\n",
       "MinTemp         0\n",
       "MaxTemp         0\n",
       "Rainfall        0\n",
       "Evaporation     0\n",
       "Sunshine        0\n",
       "Humidity9am     0\n",
       "Humidity3pm     0\n",
       "Pressure9am     0\n",
       "Pressure3pm     0\n",
       "Cloud9am        0\n",
       "Cloud3pm        0\n",
       "Temp9am         0\n",
       "Temp3pm         0\n",
       "RainToday       0\n",
       "RainTomorrow    0\n",
       "dtype: int64"
      ]
     },
     "execution_count": 15,
     "metadata": {},
     "output_type": "execute_result"
    }
   ],
   "source": [
    "#displaying column contain missing value\n",
    "\n",
    "df.isnull().sum()"
   ]
  },
  {
   "cell_type": "markdown",
   "id": "ad37c406",
   "metadata": {},
   "source": [
    "DATA PROCESSING"
   ]
  },
  {
   "cell_type": "code",
   "execution_count": 16,
   "id": "22c221ac",
   "metadata": {},
   "outputs": [
    {
     "data": {
      "text/html": [
       "<div>\n",
       "<style scoped>\n",
       "    .dataframe tbody tr th:only-of-type {\n",
       "        vertical-align: middle;\n",
       "    }\n",
       "\n",
       "    .dataframe tbody tr th {\n",
       "        vertical-align: top;\n",
       "    }\n",
       "\n",
       "    .dataframe thead th {\n",
       "        text-align: right;\n",
       "    }\n",
       "</style>\n",
       "<table border=\"1\" class=\"dataframe\">\n",
       "  <thead>\n",
       "    <tr style=\"text-align: right;\">\n",
       "      <th></th>\n",
       "      <th>Date</th>\n",
       "      <th>Location</th>\n",
       "      <th>MinTemp</th>\n",
       "      <th>MaxTemp</th>\n",
       "      <th>Rainfall</th>\n",
       "      <th>Evaporation</th>\n",
       "      <th>Sunshine</th>\n",
       "      <th>Humidity9am</th>\n",
       "      <th>Humidity3pm</th>\n",
       "      <th>Pressure9am</th>\n",
       "      <th>Pressure3pm</th>\n",
       "      <th>Cloud9am</th>\n",
       "      <th>Cloud3pm</th>\n",
       "      <th>Temp9am</th>\n",
       "      <th>Temp3pm</th>\n",
       "    </tr>\n",
       "  </thead>\n",
       "  <tbody>\n",
       "    <tr>\n",
       "      <th>count</th>\n",
       "      <td>3.337000e+03</td>\n",
       "      <td>3337.0</td>\n",
       "      <td>3337.000000</td>\n",
       "      <td>3337.000000</td>\n",
       "      <td>3337.000000</td>\n",
       "      <td>3337.000000</td>\n",
       "      <td>3337.000000</td>\n",
       "      <td>3337.000000</td>\n",
       "      <td>3337.000000</td>\n",
       "      <td>3337.000000</td>\n",
       "      <td>3337.000000</td>\n",
       "      <td>3337.000000</td>\n",
       "      <td>3337.000000</td>\n",
       "      <td>3337.000000</td>\n",
       "      <td>3337.000000</td>\n",
       "    </tr>\n",
       "    <tr>\n",
       "      <th>mean</th>\n",
       "      <td>4.866468e+06</td>\n",
       "      <td>1.0</td>\n",
       "      <td>14.865057</td>\n",
       "      <td>14.865057</td>\n",
       "      <td>3.330231</td>\n",
       "      <td>5.187432</td>\n",
       "      <td>7.179374</td>\n",
       "      <td>68.229010</td>\n",
       "      <td>54.699158</td>\n",
       "      <td>1018.346156</td>\n",
       "      <td>1016.018774</td>\n",
       "      <td>4.181523</td>\n",
       "      <td>4.218660</td>\n",
       "      <td>17.819742</td>\n",
       "      <td>21.533333</td>\n",
       "    </tr>\n",
       "    <tr>\n",
       "      <th>std</th>\n",
       "      <td>3.937772e+06</td>\n",
       "      <td>0.0</td>\n",
       "      <td>4.551593</td>\n",
       "      <td>4.551593</td>\n",
       "      <td>9.886270</td>\n",
       "      <td>2.756095</td>\n",
       "      <td>3.801737</td>\n",
       "      <td>15.053668</td>\n",
       "      <td>16.261752</td>\n",
       "      <td>7.000492</td>\n",
       "      <td>7.012157</td>\n",
       "      <td>2.505491</td>\n",
       "      <td>2.409531</td>\n",
       "      <td>4.894240</td>\n",
       "      <td>4.301156</td>\n",
       "    </tr>\n",
       "    <tr>\n",
       "      <th>min</th>\n",
       "      <td>1.120090e+05</td>\n",
       "      <td>1.0</td>\n",
       "      <td>4.300000</td>\n",
       "      <td>4.300000</td>\n",
       "      <td>0.000000</td>\n",
       "      <td>0.000000</td>\n",
       "      <td>0.000000</td>\n",
       "      <td>19.000000</td>\n",
       "      <td>10.000000</td>\n",
       "      <td>986.700000</td>\n",
       "      <td>989.800000</td>\n",
       "      <td>0.000000</td>\n",
       "      <td>0.000000</td>\n",
       "      <td>6.400000</td>\n",
       "      <td>10.200000</td>\n",
       "    </tr>\n",
       "    <tr>\n",
       "      <th>25%</th>\n",
       "      <td>1.092015e+06</td>\n",
       "      <td>1.0</td>\n",
       "      <td>11.000000</td>\n",
       "      <td>11.000000</td>\n",
       "      <td>0.000000</td>\n",
       "      <td>3.200000</td>\n",
       "      <td>4.300000</td>\n",
       "      <td>58.000000</td>\n",
       "      <td>44.000000</td>\n",
       "      <td>1013.800000</td>\n",
       "      <td>1011.300000</td>\n",
       "      <td>2.000000</td>\n",
       "      <td>2.000000</td>\n",
       "      <td>13.800000</td>\n",
       "      <td>18.400000</td>\n",
       "    </tr>\n",
       "    <tr>\n",
       "      <th>50%</th>\n",
       "      <td>4.192015e+06</td>\n",
       "      <td>1.0</td>\n",
       "      <td>14.900000</td>\n",
       "      <td>14.900000</td>\n",
       "      <td>0.000000</td>\n",
       "      <td>4.800000</td>\n",
       "      <td>8.200000</td>\n",
       "      <td>69.000000</td>\n",
       "      <td>56.000000</td>\n",
       "      <td>1018.500000</td>\n",
       "      <td>1016.300000</td>\n",
       "      <td>4.181523</td>\n",
       "      <td>4.218660</td>\n",
       "      <td>18.200000</td>\n",
       "      <td>21.300000</td>\n",
       "    </tr>\n",
       "    <tr>\n",
       "      <th>75%</th>\n",
       "      <td>8.222010e+06</td>\n",
       "      <td>1.0</td>\n",
       "      <td>18.700000</td>\n",
       "      <td>18.700000</td>\n",
       "      <td>1.400000</td>\n",
       "      <td>7.000000</td>\n",
       "      <td>10.200000</td>\n",
       "      <td>80.000000</td>\n",
       "      <td>64.000000</td>\n",
       "      <td>1023.100000</td>\n",
       "      <td>1020.800000</td>\n",
       "      <td>7.000000</td>\n",
       "      <td>7.000000</td>\n",
       "      <td>21.700000</td>\n",
       "      <td>24.500000</td>\n",
       "    </tr>\n",
       "    <tr>\n",
       "      <th>max</th>\n",
       "      <td>1.231202e+07</td>\n",
       "      <td>1.0</td>\n",
       "      <td>27.600000</td>\n",
       "      <td>27.600000</td>\n",
       "      <td>119.400000</td>\n",
       "      <td>18.400000</td>\n",
       "      <td>13.600000</td>\n",
       "      <td>100.000000</td>\n",
       "      <td>99.000000</td>\n",
       "      <td>1039.000000</td>\n",
       "      <td>1036.700000</td>\n",
       "      <td>9.000000</td>\n",
       "      <td>8.000000</td>\n",
       "      <td>36.500000</td>\n",
       "      <td>44.700000</td>\n",
       "    </tr>\n",
       "  </tbody>\n",
       "</table>\n",
       "</div>"
      ],
      "text/plain": [
       "               Date  Location      MinTemp      MaxTemp     Rainfall  \\\n",
       "count  3.337000e+03    3337.0  3337.000000  3337.000000  3337.000000   \n",
       "mean   4.866468e+06       1.0    14.865057    14.865057     3.330231   \n",
       "std    3.937772e+06       0.0     4.551593     4.551593     9.886270   \n",
       "min    1.120090e+05       1.0     4.300000     4.300000     0.000000   \n",
       "25%    1.092015e+06       1.0    11.000000    11.000000     0.000000   \n",
       "50%    4.192015e+06       1.0    14.900000    14.900000     0.000000   \n",
       "75%    8.222010e+06       1.0    18.700000    18.700000     1.400000   \n",
       "max    1.231202e+07       1.0    27.600000    27.600000   119.400000   \n",
       "\n",
       "       Evaporation     Sunshine  Humidity9am  Humidity3pm  Pressure9am  \\\n",
       "count  3337.000000  3337.000000  3337.000000  3337.000000  3337.000000   \n",
       "mean      5.187432     7.179374    68.229010    54.699158  1018.346156   \n",
       "std       2.756095     3.801737    15.053668    16.261752     7.000492   \n",
       "min       0.000000     0.000000    19.000000    10.000000   986.700000   \n",
       "25%       3.200000     4.300000    58.000000    44.000000  1013.800000   \n",
       "50%       4.800000     8.200000    69.000000    56.000000  1018.500000   \n",
       "75%       7.000000    10.200000    80.000000    64.000000  1023.100000   \n",
       "max      18.400000    13.600000   100.000000    99.000000  1039.000000   \n",
       "\n",
       "       Pressure3pm     Cloud9am     Cloud3pm      Temp9am      Temp3pm  \n",
       "count  3337.000000  3337.000000  3337.000000  3337.000000  3337.000000  \n",
       "mean   1016.018774     4.181523     4.218660    17.819742    21.533333  \n",
       "std       7.012157     2.505491     2.409531     4.894240     4.301156  \n",
       "min     989.800000     0.000000     0.000000     6.400000    10.200000  \n",
       "25%    1011.300000     2.000000     2.000000    13.800000    18.400000  \n",
       "50%    1016.300000     4.181523     4.218660    18.200000    21.300000  \n",
       "75%    1020.800000     7.000000     7.000000    21.700000    24.500000  \n",
       "max    1036.700000     9.000000     8.000000    36.500000    44.700000  "
      ]
     },
     "execution_count": 16,
     "metadata": {},
     "output_type": "execute_result"
    }
   ],
   "source": [
    "#Displaying the descriptipn of entire dataframe\n",
    "df.describe()"
   ]
  },
  {
   "cell_type": "code",
   "execution_count": 17,
   "id": "a7fca8e8",
   "metadata": {},
   "outputs": [
    {
     "data": {
      "text/html": [
       "<div>\n",
       "<style scoped>\n",
       "    .dataframe tbody tr th:only-of-type {\n",
       "        vertical-align: middle;\n",
       "    }\n",
       "\n",
       "    .dataframe tbody tr th {\n",
       "        vertical-align: top;\n",
       "    }\n",
       "\n",
       "    .dataframe thead th {\n",
       "        text-align: right;\n",
       "    }\n",
       "</style>\n",
       "<table border=\"1\" class=\"dataframe\">\n",
       "  <thead>\n",
       "    <tr style=\"text-align: right;\">\n",
       "      <th></th>\n",
       "      <th>Date</th>\n",
       "      <th>Location</th>\n",
       "      <th>MinTemp</th>\n",
       "      <th>MaxTemp</th>\n",
       "      <th>Rainfall</th>\n",
       "      <th>Evaporation</th>\n",
       "      <th>Sunshine</th>\n",
       "      <th>Humidity9am</th>\n",
       "      <th>Humidity3pm</th>\n",
       "      <th>Pressure9am</th>\n",
       "      <th>Pressure3pm</th>\n",
       "      <th>Cloud9am</th>\n",
       "      <th>Cloud3pm</th>\n",
       "      <th>Temp9am</th>\n",
       "      <th>Temp3pm</th>\n",
       "    </tr>\n",
       "  </thead>\n",
       "  <tbody>\n",
       "    <tr>\n",
       "      <th>Date</th>\n",
       "      <td>1.000000</td>\n",
       "      <td>NaN</td>\n",
       "      <td>-0.142858</td>\n",
       "      <td>-0.142858</td>\n",
       "      <td>-0.057173</td>\n",
       "      <td>0.047125</td>\n",
       "      <td>0.069714</td>\n",
       "      <td>-0.139669</td>\n",
       "      <td>-0.073302</td>\n",
       "      <td>-0.037860</td>\n",
       "      <td>-0.052719</td>\n",
       "      <td>-0.040776</td>\n",
       "      <td>-0.042646</td>\n",
       "      <td>-0.078626</td>\n",
       "      <td>-0.122404</td>\n",
       "    </tr>\n",
       "    <tr>\n",
       "      <th>Location</th>\n",
       "      <td>NaN</td>\n",
       "      <td>NaN</td>\n",
       "      <td>NaN</td>\n",
       "      <td>NaN</td>\n",
       "      <td>NaN</td>\n",
       "      <td>NaN</td>\n",
       "      <td>NaN</td>\n",
       "      <td>NaN</td>\n",
       "      <td>NaN</td>\n",
       "      <td>NaN</td>\n",
       "      <td>NaN</td>\n",
       "      <td>NaN</td>\n",
       "      <td>NaN</td>\n",
       "      <td>NaN</td>\n",
       "      <td>NaN</td>\n",
       "    </tr>\n",
       "    <tr>\n",
       "      <th>MinTemp</th>\n",
       "      <td>-0.142858</td>\n",
       "      <td>NaN</td>\n",
       "      <td>1.000000</td>\n",
       "      <td>1.000000</td>\n",
       "      <td>0.012866</td>\n",
       "      <td>0.567623</td>\n",
       "      <td>-0.062959</td>\n",
       "      <td>0.052362</td>\n",
       "      <td>0.270944</td>\n",
       "      <td>-0.393024</td>\n",
       "      <td>-0.355764</td>\n",
       "      <td>0.236288</td>\n",
       "      <td>0.163519</td>\n",
       "      <td>0.938814</td>\n",
       "      <td>0.752410</td>\n",
       "    </tr>\n",
       "    <tr>\n",
       "      <th>MaxTemp</th>\n",
       "      <td>-0.142858</td>\n",
       "      <td>NaN</td>\n",
       "      <td>1.000000</td>\n",
       "      <td>1.000000</td>\n",
       "      <td>0.012866</td>\n",
       "      <td>0.567623</td>\n",
       "      <td>-0.062959</td>\n",
       "      <td>0.052362</td>\n",
       "      <td>0.270944</td>\n",
       "      <td>-0.393024</td>\n",
       "      <td>-0.355764</td>\n",
       "      <td>0.236288</td>\n",
       "      <td>0.163519</td>\n",
       "      <td>0.938814</td>\n",
       "      <td>0.752410</td>\n",
       "    </tr>\n",
       "    <tr>\n",
       "      <th>Rainfall</th>\n",
       "      <td>-0.057173</td>\n",
       "      <td>NaN</td>\n",
       "      <td>0.012866</td>\n",
       "      <td>0.012866</td>\n",
       "      <td>1.000000</td>\n",
       "      <td>-0.100468</td>\n",
       "      <td>-0.306119</td>\n",
       "      <td>0.330469</td>\n",
       "      <td>0.301337</td>\n",
       "      <td>-0.036988</td>\n",
       "      <td>0.003210</td>\n",
       "      <td>0.242049</td>\n",
       "      <td>0.200732</td>\n",
       "      <td>-0.055974</td>\n",
       "      <td>-0.143491</td>\n",
       "    </tr>\n",
       "    <tr>\n",
       "      <th>Evaporation</th>\n",
       "      <td>0.047125</td>\n",
       "      <td>NaN</td>\n",
       "      <td>0.567623</td>\n",
       "      <td>0.567623</td>\n",
       "      <td>-0.100468</td>\n",
       "      <td>1.000000</td>\n",
       "      <td>0.174467</td>\n",
       "      <td>-0.394166</td>\n",
       "      <td>-0.101849</td>\n",
       "      <td>-0.345700</td>\n",
       "      <td>-0.300285</td>\n",
       "      <td>-0.037598</td>\n",
       "      <td>-0.037739</td>\n",
       "      <td>0.605348</td>\n",
       "      <td>0.473879</td>\n",
       "    </tr>\n",
       "    <tr>\n",
       "      <th>Sunshine</th>\n",
       "      <td>0.069714</td>\n",
       "      <td>NaN</td>\n",
       "      <td>-0.062959</td>\n",
       "      <td>-0.062959</td>\n",
       "      <td>-0.306119</td>\n",
       "      <td>0.174467</td>\n",
       "      <td>1.000000</td>\n",
       "      <td>-0.489019</td>\n",
       "      <td>-0.582792</td>\n",
       "      <td>-0.046391</td>\n",
       "      <td>-0.094322</td>\n",
       "      <td>-0.660555</td>\n",
       "      <td>-0.676397</td>\n",
       "      <td>0.114663</td>\n",
       "      <td>0.343563</td>\n",
       "    </tr>\n",
       "    <tr>\n",
       "      <th>Humidity9am</th>\n",
       "      <td>-0.139669</td>\n",
       "      <td>NaN</td>\n",
       "      <td>0.052362</td>\n",
       "      <td>0.052362</td>\n",
       "      <td>0.330469</td>\n",
       "      <td>-0.394166</td>\n",
       "      <td>-0.489019</td>\n",
       "      <td>1.000000</td>\n",
       "      <td>0.658120</td>\n",
       "      <td>0.263146</td>\n",
       "      <td>0.251304</td>\n",
       "      <td>0.423560</td>\n",
       "      <td>0.331734</td>\n",
       "      <td>-0.147977</td>\n",
       "      <td>-0.157149</td>\n",
       "    </tr>\n",
       "    <tr>\n",
       "      <th>Humidity3pm</th>\n",
       "      <td>-0.073302</td>\n",
       "      <td>NaN</td>\n",
       "      <td>0.270944</td>\n",
       "      <td>0.270944</td>\n",
       "      <td>0.301337</td>\n",
       "      <td>-0.101849</td>\n",
       "      <td>-0.582792</td>\n",
       "      <td>0.658120</td>\n",
       "      <td>1.000000</td>\n",
       "      <td>0.154352</td>\n",
       "      <td>0.183056</td>\n",
       "      <td>0.453697</td>\n",
       "      <td>0.471684</td>\n",
       "      <td>0.128479</td>\n",
       "      <td>-0.213727</td>\n",
       "    </tr>\n",
       "    <tr>\n",
       "      <th>Pressure9am</th>\n",
       "      <td>-0.037860</td>\n",
       "      <td>NaN</td>\n",
       "      <td>-0.393024</td>\n",
       "      <td>-0.393024</td>\n",
       "      <td>-0.036988</td>\n",
       "      <td>-0.345700</td>\n",
       "      <td>-0.046391</td>\n",
       "      <td>0.263146</td>\n",
       "      <td>0.154352</td>\n",
       "      <td>1.000000</td>\n",
       "      <td>0.960460</td>\n",
       "      <td>-0.011072</td>\n",
       "      <td>-0.040115</td>\n",
       "      <td>-0.418943</td>\n",
       "      <td>-0.345926</td>\n",
       "    </tr>\n",
       "    <tr>\n",
       "      <th>Pressure3pm</th>\n",
       "      <td>-0.052719</td>\n",
       "      <td>NaN</td>\n",
       "      <td>-0.355764</td>\n",
       "      <td>-0.355764</td>\n",
       "      <td>0.003210</td>\n",
       "      <td>-0.300285</td>\n",
       "      <td>-0.094322</td>\n",
       "      <td>0.251304</td>\n",
       "      <td>0.183056</td>\n",
       "      <td>0.960460</td>\n",
       "      <td>1.000000</td>\n",
       "      <td>0.018972</td>\n",
       "      <td>-0.002903</td>\n",
       "      <td>-0.404472</td>\n",
       "      <td>-0.392218</td>\n",
       "    </tr>\n",
       "    <tr>\n",
       "      <th>Cloud9am</th>\n",
       "      <td>-0.040776</td>\n",
       "      <td>NaN</td>\n",
       "      <td>0.236288</td>\n",
       "      <td>0.236288</td>\n",
       "      <td>0.242049</td>\n",
       "      <td>-0.037598</td>\n",
       "      <td>-0.660555</td>\n",
       "      <td>0.423560</td>\n",
       "      <td>0.453697</td>\n",
       "      <td>-0.011072</td>\n",
       "      <td>0.018972</td>\n",
       "      <td>1.000000</td>\n",
       "      <td>0.608995</td>\n",
       "      <td>0.088428</td>\n",
       "      <td>-0.089334</td>\n",
       "    </tr>\n",
       "    <tr>\n",
       "      <th>Cloud3pm</th>\n",
       "      <td>-0.042646</td>\n",
       "      <td>NaN</td>\n",
       "      <td>0.163519</td>\n",
       "      <td>0.163519</td>\n",
       "      <td>0.200732</td>\n",
       "      <td>-0.037739</td>\n",
       "      <td>-0.676397</td>\n",
       "      <td>0.331734</td>\n",
       "      <td>0.471684</td>\n",
       "      <td>-0.040115</td>\n",
       "      <td>-0.002903</td>\n",
       "      <td>0.608995</td>\n",
       "      <td>1.000000</td>\n",
       "      <td>0.067630</td>\n",
       "      <td>-0.145863</td>\n",
       "    </tr>\n",
       "    <tr>\n",
       "      <th>Temp9am</th>\n",
       "      <td>-0.078626</td>\n",
       "      <td>NaN</td>\n",
       "      <td>0.938814</td>\n",
       "      <td>0.938814</td>\n",
       "      <td>-0.055974</td>\n",
       "      <td>0.605348</td>\n",
       "      <td>0.114663</td>\n",
       "      <td>-0.147977</td>\n",
       "      <td>0.128479</td>\n",
       "      <td>-0.418943</td>\n",
       "      <td>-0.404472</td>\n",
       "      <td>0.088428</td>\n",
       "      <td>0.067630</td>\n",
       "      <td>1.000000</td>\n",
       "      <td>0.828669</td>\n",
       "    </tr>\n",
       "    <tr>\n",
       "      <th>Temp3pm</th>\n",
       "      <td>-0.122404</td>\n",
       "      <td>NaN</td>\n",
       "      <td>0.752410</td>\n",
       "      <td>0.752410</td>\n",
       "      <td>-0.143491</td>\n",
       "      <td>0.473879</td>\n",
       "      <td>0.343563</td>\n",
       "      <td>-0.157149</td>\n",
       "      <td>-0.213727</td>\n",
       "      <td>-0.345926</td>\n",
       "      <td>-0.392218</td>\n",
       "      <td>-0.089334</td>\n",
       "      <td>-0.145863</td>\n",
       "      <td>0.828669</td>\n",
       "      <td>1.000000</td>\n",
       "    </tr>\n",
       "  </tbody>\n",
       "</table>\n",
       "</div>"
      ],
      "text/plain": [
       "                 Date  Location   MinTemp   MaxTemp  Rainfall  Evaporation  \\\n",
       "Date         1.000000       NaN -0.142858 -0.142858 -0.057173     0.047125   \n",
       "Location          NaN       NaN       NaN       NaN       NaN          NaN   \n",
       "MinTemp     -0.142858       NaN  1.000000  1.000000  0.012866     0.567623   \n",
       "MaxTemp     -0.142858       NaN  1.000000  1.000000  0.012866     0.567623   \n",
       "Rainfall    -0.057173       NaN  0.012866  0.012866  1.000000    -0.100468   \n",
       "Evaporation  0.047125       NaN  0.567623  0.567623 -0.100468     1.000000   \n",
       "Sunshine     0.069714       NaN -0.062959 -0.062959 -0.306119     0.174467   \n",
       "Humidity9am -0.139669       NaN  0.052362  0.052362  0.330469    -0.394166   \n",
       "Humidity3pm -0.073302       NaN  0.270944  0.270944  0.301337    -0.101849   \n",
       "Pressure9am -0.037860       NaN -0.393024 -0.393024 -0.036988    -0.345700   \n",
       "Pressure3pm -0.052719       NaN -0.355764 -0.355764  0.003210    -0.300285   \n",
       "Cloud9am    -0.040776       NaN  0.236288  0.236288  0.242049    -0.037598   \n",
       "Cloud3pm    -0.042646       NaN  0.163519  0.163519  0.200732    -0.037739   \n",
       "Temp9am     -0.078626       NaN  0.938814  0.938814 -0.055974     0.605348   \n",
       "Temp3pm     -0.122404       NaN  0.752410  0.752410 -0.143491     0.473879   \n",
       "\n",
       "             Sunshine  Humidity9am  Humidity3pm  Pressure9am  Pressure3pm  \\\n",
       "Date         0.069714    -0.139669    -0.073302    -0.037860    -0.052719   \n",
       "Location          NaN          NaN          NaN          NaN          NaN   \n",
       "MinTemp     -0.062959     0.052362     0.270944    -0.393024    -0.355764   \n",
       "MaxTemp     -0.062959     0.052362     0.270944    -0.393024    -0.355764   \n",
       "Rainfall    -0.306119     0.330469     0.301337    -0.036988     0.003210   \n",
       "Evaporation  0.174467    -0.394166    -0.101849    -0.345700    -0.300285   \n",
       "Sunshine     1.000000    -0.489019    -0.582792    -0.046391    -0.094322   \n",
       "Humidity9am -0.489019     1.000000     0.658120     0.263146     0.251304   \n",
       "Humidity3pm -0.582792     0.658120     1.000000     0.154352     0.183056   \n",
       "Pressure9am -0.046391     0.263146     0.154352     1.000000     0.960460   \n",
       "Pressure3pm -0.094322     0.251304     0.183056     0.960460     1.000000   \n",
       "Cloud9am    -0.660555     0.423560     0.453697    -0.011072     0.018972   \n",
       "Cloud3pm    -0.676397     0.331734     0.471684    -0.040115    -0.002903   \n",
       "Temp9am      0.114663    -0.147977     0.128479    -0.418943    -0.404472   \n",
       "Temp3pm      0.343563    -0.157149    -0.213727    -0.345926    -0.392218   \n",
       "\n",
       "             Cloud9am  Cloud3pm   Temp9am   Temp3pm  \n",
       "Date        -0.040776 -0.042646 -0.078626 -0.122404  \n",
       "Location          NaN       NaN       NaN       NaN  \n",
       "MinTemp      0.236288  0.163519  0.938814  0.752410  \n",
       "MaxTemp      0.236288  0.163519  0.938814  0.752410  \n",
       "Rainfall     0.242049  0.200732 -0.055974 -0.143491  \n",
       "Evaporation -0.037598 -0.037739  0.605348  0.473879  \n",
       "Sunshine    -0.660555 -0.676397  0.114663  0.343563  \n",
       "Humidity9am  0.423560  0.331734 -0.147977 -0.157149  \n",
       "Humidity3pm  0.453697  0.471684  0.128479 -0.213727  \n",
       "Pressure9am -0.011072 -0.040115 -0.418943 -0.345926  \n",
       "Pressure3pm  0.018972 -0.002903 -0.404472 -0.392218  \n",
       "Cloud9am     1.000000  0.608995  0.088428 -0.089334  \n",
       "Cloud3pm     0.608995  1.000000  0.067630 -0.145863  \n",
       "Temp9am      0.088428  0.067630  1.000000  0.828669  \n",
       "Temp3pm     -0.089334 -0.145863  0.828669  1.000000  "
      ]
     },
     "execution_count": 17,
     "metadata": {},
     "output_type": "execute_result"
    }
   ],
   "source": [
    "#display the corelation between the columns\n",
    "df.corr()"
   ]
  },
  {
   "cell_type": "code",
   "execution_count": 18,
   "id": "70043b9d",
   "metadata": {},
   "outputs": [
    {
     "data": {
      "image/png": "[encoded data removed]",
      "text/plain": [
       "<Figure size 720x720 with 1 Axes>"
      ]
     },
     "metadata": {
      "needs_background": "light"
     },
     "output_type": "display_data"
    }
   ],
   "source": [
    "#visualization of corelation between columns. \n",
    "plt.figure(figsize=(10,10))\n",
    "sns.heatmap(df.corr() > 0.8,\n",
    "           annot=True,\n",
    "           cbar=False)\n",
    "plt.show()"
   ]
  },
  {
   "cell_type": "code",
   "execution_count": 19,
   "id": "1d6953a5",
   "metadata": {},
   "outputs": [
    {
     "data": {
      "text/plain": [
       "(3337, 17)"
      ]
     },
     "execution_count": 19,
     "metadata": {},
     "output_type": "execute_result"
    }
   ],
   "source": [
    "#display the shape of our dataframe(rows and columns)\n",
    "df.shape"
   ]
  },
  {
   "cell_type": "markdown",
   "id": "a8010a57",
   "metadata": {},
   "source": [
    "VISUALIZATION"
   ]
  },
  {
   "cell_type": "code",
   "execution_count": 20,
   "id": "1b5e0bde",
   "metadata": {},
   "outputs": [
    {
     "data": {
      "image/png": "[encoded data removed]",
      "text/plain": [
       "<Figure size 432x288 with 1 Axes>"
      ]
     },
     "metadata": {
      "needs_background": "light"
     },
     "output_type": "display_data"
    }
   ],
   "source": [
    "# gca stands for 'get current axis'\n",
    "ax = plt.gca()\n",
    "\n",
    "\n",
    "df.plot(kind='scatter',x='Humidity3pm',y='Rainfall', color='blue', ax=ax)\n",
    "\n",
    "plt.show()\n",
    "\n"
   ]
  },
  {
   "cell_type": "code",
   "execution_count": 21,
   "id": "1bb92c6b",
   "metadata": {},
   "outputs": [
    {
     "data": {
      "text/plain": [
       "<AxesSubplot:xlabel='RainToday', ylabel='count'>"
      ]
     },
     "execution_count": 21,
     "metadata": {},
     "output_type": "execute_result"
    },
    {
     "data": {
      "image/png": "[encoded data removed]",
      "text/plain": [
       "<Figure size 432x288 with 1 Axes>"
      ]
     },
     "metadata": {
      "needs_background": "light"
     },
     "output_type": "display_data"
    }
   ],
   "source": [
    "sns.countplot(x=\"RainToday\",data=df)"
   ]
  },
  {
   "cell_type": "code",
   "execution_count": 22,
   "id": "d8cb1712",
   "metadata": {},
   "outputs": [
    {
     "data": {
      "text/plain": [
       "<AxesSubplot:xlabel='RainTomorrow', ylabel='count'>"
      ]
     },
     "execution_count": 22,
     "metadata": {},
     "output_type": "execute_result"
    },
    {
     "data": {
      "image/png": "[encoded data removed]",
      "text/plain": [
       "<Figure size 432x288 with 1 Axes>"
      ]
     },
     "metadata": {
      "needs_background": "light"
     },
     "output_type": "display_data"
    }
   ],
   "source": [
    "sns.countplot(x=\"RainTomorrow\",data=df)"
   ]
  },
  {
   "cell_type": "code",
   "execution_count": 23,
   "id": "dc99b7e0",
   "metadata": {},
   "outputs": [
    {
     "data": {
      "text/plain": [
       "<seaborn.axisgrid.JointGrid at 0x28043cd39d0>"
      ]
     },
     "execution_count": 23,
     "metadata": {},
     "output_type": "execute_result"
    },
    {
     "data": {
      "image/png": "[encoded data removed]",
      "text/plain": [
       "<Figure size 432x432 with 3 Axes>"
      ]
     },
     "metadata": {
      "needs_background": "light"
     },
     "output_type": "display_data"
    }
   ],
   "source": [
    "sns.jointplot(x='Temp3pm',y='Rainfall',data=df)"
   ]
  },
  {
   "cell_type": "markdown",
   "id": "062022f2",
   "metadata": {},
   "source": [
    "OUTLIER TREATMENT"
   ]
  },
  {
   "cell_type": "code",
   "execution_count": 24,
   "id": "3cc9a6d9",
   "metadata": {
    "scrolled": true
   },
   "outputs": [
    {
     "data": {
      "text/html": [
       "<div>\n",
       "<style scoped>\n",
       "    .dataframe tbody tr th:only-of-type {\n",
       "        vertical-align: middle;\n",
       "    }\n",
       "\n",
       "    .dataframe tbody tr th {\n",
       "        vertical-align: top;\n",
       "    }\n",
       "\n",
       "    .dataframe thead th {\n",
       "        text-align: right;\n",
       "    }\n",
       "</style>\n",
       "<table border=\"1\" class=\"dataframe\">\n",
       "  <thead>\n",
       "    <tr style=\"text-align: right;\">\n",
       "      <th></th>\n",
       "      <th>Date</th>\n",
       "      <th>Location</th>\n",
       "      <th>MinTemp</th>\n",
       "      <th>MaxTemp</th>\n",
       "      <th>Rainfall</th>\n",
       "      <th>Evaporation</th>\n",
       "      <th>Sunshine</th>\n",
       "      <th>Humidity9am</th>\n",
       "      <th>Humidity3pm</th>\n",
       "      <th>Pressure9am</th>\n",
       "      <th>Pressure3pm</th>\n",
       "      <th>Cloud9am</th>\n",
       "      <th>Cloud3pm</th>\n",
       "      <th>Temp9am</th>\n",
       "      <th>Temp3pm</th>\n",
       "      <th>RainToday</th>\n",
       "      <th>RainTomorrow</th>\n",
       "    </tr>\n",
       "  </thead>\n",
       "  <tbody>\n",
       "    <tr>\n",
       "      <th>0</th>\n",
       "      <td>212008.0</td>\n",
       "      <td>1</td>\n",
       "      <td>19.5</td>\n",
       "      <td>19.5</td>\n",
       "      <td>15.6</td>\n",
       "      <td>6.2</td>\n",
       "      <td>0.0</td>\n",
       "      <td>92.0</td>\n",
       "      <td>84.0</td>\n",
       "      <td>1017.6</td>\n",
       "      <td>1017.4</td>\n",
       "      <td>8.0</td>\n",
       "      <td>8.0</td>\n",
       "      <td>20.7</td>\n",
       "      <td>20.9</td>\n",
       "      <td>Yes</td>\n",
       "      <td>Yes</td>\n",
       "    </tr>\n",
       "    <tr>\n",
       "      <th>1</th>\n",
       "      <td>222008.0</td>\n",
       "      <td>1</td>\n",
       "      <td>19.5</td>\n",
       "      <td>19.5</td>\n",
       "      <td>6.0</td>\n",
       "      <td>3.4</td>\n",
       "      <td>2.7</td>\n",
       "      <td>83.0</td>\n",
       "      <td>73.0</td>\n",
       "      <td>1017.9</td>\n",
       "      <td>1016.4</td>\n",
       "      <td>7.0</td>\n",
       "      <td>7.0</td>\n",
       "      <td>22.4</td>\n",
       "      <td>24.8</td>\n",
       "      <td>Yes</td>\n",
       "      <td>Yes</td>\n",
       "    </tr>\n",
       "    <tr>\n",
       "      <th>2</th>\n",
       "      <td>232008.0</td>\n",
       "      <td>1</td>\n",
       "      <td>21.6</td>\n",
       "      <td>21.6</td>\n",
       "      <td>6.6</td>\n",
       "      <td>2.4</td>\n",
       "      <td>0.1</td>\n",
       "      <td>88.0</td>\n",
       "      <td>86.0</td>\n",
       "      <td>1016.7</td>\n",
       "      <td>1015.6</td>\n",
       "      <td>7.0</td>\n",
       "      <td>8.0</td>\n",
       "      <td>23.5</td>\n",
       "      <td>23.0</td>\n",
       "      <td>Yes</td>\n",
       "      <td>Yes</td>\n",
       "    </tr>\n",
       "    <tr>\n",
       "      <th>3</th>\n",
       "      <td>242008.0</td>\n",
       "      <td>1</td>\n",
       "      <td>20.2</td>\n",
       "      <td>20.2</td>\n",
       "      <td>18.8</td>\n",
       "      <td>2.2</td>\n",
       "      <td>0.0</td>\n",
       "      <td>83.0</td>\n",
       "      <td>90.0</td>\n",
       "      <td>1014.2</td>\n",
       "      <td>1011.8</td>\n",
       "      <td>8.0</td>\n",
       "      <td>8.0</td>\n",
       "      <td>21.4</td>\n",
       "      <td>20.9</td>\n",
       "      <td>Yes</td>\n",
       "      <td>Yes</td>\n",
       "    </tr>\n",
       "    <tr>\n",
       "      <th>5</th>\n",
       "      <td>262008.0</td>\n",
       "      <td>1</td>\n",
       "      <td>20.2</td>\n",
       "      <td>20.2</td>\n",
       "      <td>1.6</td>\n",
       "      <td>2.6</td>\n",
       "      <td>8.6</td>\n",
       "      <td>69.0</td>\n",
       "      <td>62.0</td>\n",
       "      <td>1002.7</td>\n",
       "      <td>998.6</td>\n",
       "      <td>6.0</td>\n",
       "      <td>6.0</td>\n",
       "      <td>23.8</td>\n",
       "      <td>26.0</td>\n",
       "      <td>Yes</td>\n",
       "      <td>Yes</td>\n",
       "    </tr>\n",
       "    <tr>\n",
       "      <th>...</th>\n",
       "      <td>...</td>\n",
       "      <td>...</td>\n",
       "      <td>...</td>\n",
       "      <td>...</td>\n",
       "      <td>...</td>\n",
       "      <td>...</td>\n",
       "      <td>...</td>\n",
       "      <td>...</td>\n",
       "      <td>...</td>\n",
       "      <td>...</td>\n",
       "      <td>...</td>\n",
       "      <td>...</td>\n",
       "      <td>...</td>\n",
       "      <td>...</td>\n",
       "      <td>...</td>\n",
       "      <td>...</td>\n",
       "      <td>...</td>\n",
       "    </tr>\n",
       "    <tr>\n",
       "      <th>3332</th>\n",
       "      <td>6212017.0</td>\n",
       "      <td>1</td>\n",
       "      <td>8.6</td>\n",
       "      <td>8.6</td>\n",
       "      <td>0.0</td>\n",
       "      <td>2.0</td>\n",
       "      <td>7.8</td>\n",
       "      <td>73.0</td>\n",
       "      <td>52.0</td>\n",
       "      <td>1025.9</td>\n",
       "      <td>1025.3</td>\n",
       "      <td>2.0</td>\n",
       "      <td>2.0</td>\n",
       "      <td>10.5</td>\n",
       "      <td>17.9</td>\n",
       "      <td>No</td>\n",
       "      <td>No</td>\n",
       "    </tr>\n",
       "    <tr>\n",
       "      <th>3333</th>\n",
       "      <td>6222017.0</td>\n",
       "      <td>1</td>\n",
       "      <td>9.3</td>\n",
       "      <td>9.3</td>\n",
       "      <td>0.0</td>\n",
       "      <td>2.0</td>\n",
       "      <td>9.2</td>\n",
       "      <td>78.0</td>\n",
       "      <td>53.0</td>\n",
       "      <td>1028.5</td>\n",
       "      <td>1024.6</td>\n",
       "      <td>2.0</td>\n",
       "      <td>2.0</td>\n",
       "      <td>11.0</td>\n",
       "      <td>18.7</td>\n",
       "      <td>No</td>\n",
       "      <td>No</td>\n",
       "    </tr>\n",
       "    <tr>\n",
       "      <th>3334</th>\n",
       "      <td>6232017.0</td>\n",
       "      <td>1</td>\n",
       "      <td>9.4</td>\n",
       "      <td>9.4</td>\n",
       "      <td>0.0</td>\n",
       "      <td>2.4</td>\n",
       "      <td>2.7</td>\n",
       "      <td>85.0</td>\n",
       "      <td>56.0</td>\n",
       "      <td>1020.8</td>\n",
       "      <td>1015.0</td>\n",
       "      <td>6.0</td>\n",
       "      <td>6.0</td>\n",
       "      <td>10.2</td>\n",
       "      <td>17.3</td>\n",
       "      <td>No</td>\n",
       "      <td>No</td>\n",
       "    </tr>\n",
       "    <tr>\n",
       "      <th>3335</th>\n",
       "      <td>6242017.0</td>\n",
       "      <td>1</td>\n",
       "      <td>10.1</td>\n",
       "      <td>10.1</td>\n",
       "      <td>0.0</td>\n",
       "      <td>1.4</td>\n",
       "      <td>9.3</td>\n",
       "      <td>56.0</td>\n",
       "      <td>35.0</td>\n",
       "      <td>1017.3</td>\n",
       "      <td>1015.1</td>\n",
       "      <td>5.0</td>\n",
       "      <td>2.0</td>\n",
       "      <td>12.4</td>\n",
       "      <td>19.0</td>\n",
       "      <td>No</td>\n",
       "      <td>No</td>\n",
       "    </tr>\n",
       "    <tr>\n",
       "      <th>3336</th>\n",
       "      <td>6252017.0</td>\n",
       "      <td>1</td>\n",
       "      <td>7.6</td>\n",
       "      <td>7.6</td>\n",
       "      <td>0.0</td>\n",
       "      <td>3.4</td>\n",
       "      <td>9.4</td>\n",
       "      <td>73.0</td>\n",
       "      <td>32.0</td>\n",
       "      <td>1018.6</td>\n",
       "      <td>1015.4</td>\n",
       "      <td>1.0</td>\n",
       "      <td>1.0</td>\n",
       "      <td>9.4</td>\n",
       "      <td>18.8</td>\n",
       "      <td>No</td>\n",
       "      <td>No</td>\n",
       "    </tr>\n",
       "  </tbody>\n",
       "</table>\n",
       "<p>3303 rows × 17 columns</p>\n",
       "</div>"
      ],
      "text/plain": [
       "           Date  Location  MinTemp  MaxTemp  Rainfall  Evaporation  Sunshine  \\\n",
       "0      212008.0         1     19.5     19.5      15.6          6.2       0.0   \n",
       "1      222008.0         1     19.5     19.5       6.0          3.4       2.7   \n",
       "2      232008.0         1     21.6     21.6       6.6          2.4       0.1   \n",
       "3      242008.0         1     20.2     20.2      18.8          2.2       0.0   \n",
       "5      262008.0         1     20.2     20.2       1.6          2.6       8.6   \n",
       "...         ...       ...      ...      ...       ...          ...       ...   \n",
       "3332  6212017.0         1      8.6      8.6       0.0          2.0       7.8   \n",
       "3333  6222017.0         1      9.3      9.3       0.0          2.0       9.2   \n",
       "3334  6232017.0         1      9.4      9.4       0.0          2.4       2.7   \n",
       "3335  6242017.0         1     10.1     10.1       0.0          1.4       9.3   \n",
       "3336  6252017.0         1      7.6      7.6       0.0          3.4       9.4   \n",
       "\n",
       "      Humidity9am  Humidity3pm  Pressure9am  Pressure3pm  Cloud9am  Cloud3pm  \\\n",
       "0            92.0         84.0       1017.6       1017.4       8.0       8.0   \n",
       "1            83.0         73.0       1017.9       1016.4       7.0       7.0   \n",
       "2            88.0         86.0       1016.7       1015.6       7.0       8.0   \n",
       "3            83.0         90.0       1014.2       1011.8       8.0       8.0   \n",
       "5            69.0         62.0       1002.7        998.6       6.0       6.0   \n",
       "...           ...          ...          ...          ...       ...       ...   \n",
       "3332         73.0         52.0       1025.9       1025.3       2.0       2.0   \n",
       "3333         78.0         53.0       1028.5       1024.6       2.0       2.0   \n",
       "3334         85.0         56.0       1020.8       1015.0       6.0       6.0   \n",
       "3335         56.0         35.0       1017.3       1015.1       5.0       2.0   \n",
       "3336         73.0         32.0       1018.6       1015.4       1.0       1.0   \n",
       "\n",
       "      Temp9am  Temp3pm RainToday RainTomorrow  \n",
       "0        20.7     20.9       Yes          Yes  \n",
       "1        22.4     24.8       Yes          Yes  \n",
       "2        23.5     23.0       Yes          Yes  \n",
       "3        21.4     20.9       Yes          Yes  \n",
       "5        23.8     26.0       Yes          Yes  \n",
       "...       ...      ...       ...          ...  \n",
       "3332     10.5     17.9        No           No  \n",
       "3333     11.0     18.7        No           No  \n",
       "3334     10.2     17.3        No           No  \n",
       "3335     12.4     19.0        No           No  \n",
       "3336      9.4     18.8        No           No  \n",
       "\n",
       "[3303 rows x 17 columns]"
      ]
     },
     "execution_count": 24,
     "metadata": {},
     "output_type": "execute_result"
    }
   ],
   "source": [
    "#Outlier treatment of Rainfall column\n",
    "#Rainfall column contain outlier as there is a huge difference in 75% and max value.\n",
    "#from the above graph we see Rainfall has outlier\n",
    "\n",
    "lv=np.percentile(df.Rainfall,[99])[0]\n",
    "df[(df.Rainfall<lv)]"
   ]
  },
  {
   "cell_type": "code",
   "execution_count": 25,
   "id": "0d90276a",
   "metadata": {},
   "outputs": [
    {
     "name": "stderr",
     "output_type": "stream",
     "text": [
      "C:\\Users\\PALLAVI\\AppData\\Local\\Temp\\ipykernel_6032\\72025996.py:1: SettingWithCopyWarning: \n",
      "A value is trying to be set on a copy of a slice from a DataFrame\n",
      "\n",
      "See the caveats in the documentation: https://pandas.pydata.org/pandas-docs/stable/user_guide/indexing.html#returning-a-view-versus-a-copy\n",
      "  df.Rainfall[(df.Rainfall<0.3*lv)]=0.3*lv\n"
     ]
    }
   ],
   "source": [
    "df.Rainfall[(df.Rainfall<0.3*lv)]=0.3*lv"
   ]
  },
  {
   "cell_type": "markdown",
   "id": "0f45d0f6",
   "metadata": {},
   "source": [
    "Dummy variable creation"
   ]
  },
  {
   "cell_type": "code",
   "execution_count": 26,
   "id": "6f098757",
   "metadata": {},
   "outputs": [],
   "source": [
    "#As there are are two categorical(RainToday & RainTomorrow) value we have to create two dummy variable.\n",
    "df=pd.get_dummies(df,columns=[\"RainToday\"],drop_first=True)"
   ]
  },
  {
   "cell_type": "code",
   "execution_count": 27,
   "id": "5a423200",
   "metadata": {},
   "outputs": [],
   "source": [
    "df=pd.get_dummies(df,columns=[\"RainTomorrow\"],drop_first=True)"
   ]
  },
  {
   "cell_type": "code",
   "execution_count": 28,
   "id": "1fcc0b20",
   "metadata": {},
   "outputs": [
    {
     "data": {
      "text/html": [
       "<div>\n",
       "<style scoped>\n",
       "    .dataframe tbody tr th:only-of-type {\n",
       "        vertical-align: middle;\n",
       "    }\n",
       "\n",
       "    .dataframe tbody tr th {\n",
       "        vertical-align: top;\n",
       "    }\n",
       "\n",
       "    .dataframe thead th {\n",
       "        text-align: right;\n",
       "    }\n",
       "</style>\n",
       "<table border=\"1\" class=\"dataframe\">\n",
       "  <thead>\n",
       "    <tr style=\"text-align: right;\">\n",
       "      <th></th>\n",
       "      <th>Date</th>\n",
       "      <th>Location</th>\n",
       "      <th>MinTemp</th>\n",
       "      <th>MaxTemp</th>\n",
       "      <th>Rainfall</th>\n",
       "      <th>Evaporation</th>\n",
       "      <th>Sunshine</th>\n",
       "      <th>Humidity9am</th>\n",
       "      <th>Humidity3pm</th>\n",
       "      <th>Pressure9am</th>\n",
       "      <th>Pressure3pm</th>\n",
       "      <th>Cloud9am</th>\n",
       "      <th>Cloud3pm</th>\n",
       "      <th>Temp9am</th>\n",
       "      <th>Temp3pm</th>\n",
       "      <th>RainToday_Yes</th>\n",
       "      <th>RainTomorrow_Yes</th>\n",
       "    </tr>\n",
       "  </thead>\n",
       "  <tbody>\n",
       "    <tr>\n",
       "      <th>0</th>\n",
       "      <td>212008.0</td>\n",
       "      <td>1</td>\n",
       "      <td>19.5</td>\n",
       "      <td>19.5</td>\n",
       "      <td>15.6888</td>\n",
       "      <td>6.200000</td>\n",
       "      <td>0.0</td>\n",
       "      <td>92.0</td>\n",
       "      <td>84.0</td>\n",
       "      <td>1017.6</td>\n",
       "      <td>1017.4</td>\n",
       "      <td>8.0</td>\n",
       "      <td>8.0</td>\n",
       "      <td>20.7</td>\n",
       "      <td>20.9</td>\n",
       "      <td>1</td>\n",
       "      <td>1</td>\n",
       "    </tr>\n",
       "    <tr>\n",
       "      <th>1</th>\n",
       "      <td>222008.0</td>\n",
       "      <td>1</td>\n",
       "      <td>19.5</td>\n",
       "      <td>19.5</td>\n",
       "      <td>15.6888</td>\n",
       "      <td>3.400000</td>\n",
       "      <td>2.7</td>\n",
       "      <td>83.0</td>\n",
       "      <td>73.0</td>\n",
       "      <td>1017.9</td>\n",
       "      <td>1016.4</td>\n",
       "      <td>7.0</td>\n",
       "      <td>7.0</td>\n",
       "      <td>22.4</td>\n",
       "      <td>24.8</td>\n",
       "      <td>1</td>\n",
       "      <td>1</td>\n",
       "    </tr>\n",
       "    <tr>\n",
       "      <th>2</th>\n",
       "      <td>232008.0</td>\n",
       "      <td>1</td>\n",
       "      <td>21.6</td>\n",
       "      <td>21.6</td>\n",
       "      <td>15.6888</td>\n",
       "      <td>2.400000</td>\n",
       "      <td>0.1</td>\n",
       "      <td>88.0</td>\n",
       "      <td>86.0</td>\n",
       "      <td>1016.7</td>\n",
       "      <td>1015.6</td>\n",
       "      <td>7.0</td>\n",
       "      <td>8.0</td>\n",
       "      <td>23.5</td>\n",
       "      <td>23.0</td>\n",
       "      <td>1</td>\n",
       "      <td>1</td>\n",
       "    </tr>\n",
       "    <tr>\n",
       "      <th>3</th>\n",
       "      <td>242008.0</td>\n",
       "      <td>1</td>\n",
       "      <td>20.2</td>\n",
       "      <td>20.2</td>\n",
       "      <td>18.8000</td>\n",
       "      <td>2.200000</td>\n",
       "      <td>0.0</td>\n",
       "      <td>83.0</td>\n",
       "      <td>90.0</td>\n",
       "      <td>1014.2</td>\n",
       "      <td>1011.8</td>\n",
       "      <td>8.0</td>\n",
       "      <td>8.0</td>\n",
       "      <td>21.4</td>\n",
       "      <td>20.9</td>\n",
       "      <td>1</td>\n",
       "      <td>1</td>\n",
       "    </tr>\n",
       "    <tr>\n",
       "      <th>4</th>\n",
       "      <td>252008.0</td>\n",
       "      <td>1</td>\n",
       "      <td>19.7</td>\n",
       "      <td>19.7</td>\n",
       "      <td>77.4000</td>\n",
       "      <td>5.187432</td>\n",
       "      <td>0.0</td>\n",
       "      <td>88.0</td>\n",
       "      <td>74.0</td>\n",
       "      <td>1008.3</td>\n",
       "      <td>1004.8</td>\n",
       "      <td>8.0</td>\n",
       "      <td>8.0</td>\n",
       "      <td>22.5</td>\n",
       "      <td>25.5</td>\n",
       "      <td>1</td>\n",
       "      <td>1</td>\n",
       "    </tr>\n",
       "  </tbody>\n",
       "</table>\n",
       "</div>"
      ],
      "text/plain": [
       "       Date  Location  MinTemp  MaxTemp  Rainfall  Evaporation  Sunshine  \\\n",
       "0  212008.0         1     19.5     19.5   15.6888     6.200000       0.0   \n",
       "1  222008.0         1     19.5     19.5   15.6888     3.400000       2.7   \n",
       "2  232008.0         1     21.6     21.6   15.6888     2.400000       0.1   \n",
       "3  242008.0         1     20.2     20.2   18.8000     2.200000       0.0   \n",
       "4  252008.0         1     19.7     19.7   77.4000     5.187432       0.0   \n",
       "\n",
       "   Humidity9am  Humidity3pm  Pressure9am  Pressure3pm  Cloud9am  Cloud3pm  \\\n",
       "0         92.0         84.0       1017.6       1017.4       8.0       8.0   \n",
       "1         83.0         73.0       1017.9       1016.4       7.0       7.0   \n",
       "2         88.0         86.0       1016.7       1015.6       7.0       8.0   \n",
       "3         83.0         90.0       1014.2       1011.8       8.0       8.0   \n",
       "4         88.0         74.0       1008.3       1004.8       8.0       8.0   \n",
       "\n",
       "   Temp9am  Temp3pm  RainToday_Yes  RainTomorrow_Yes  \n",
       "0     20.7     20.9              1                 1  \n",
       "1     22.4     24.8              1                 1  \n",
       "2     23.5     23.0              1                 1  \n",
       "3     21.4     20.9              1                 1  \n",
       "4     22.5     25.5              1                 1  "
      ]
     },
     "execution_count": 28,
     "metadata": {},
     "output_type": "execute_result"
    }
   ],
   "source": [
    "df.head()"
   ]
  },
  {
   "cell_type": "code",
   "execution_count": 29,
   "id": "e5b8e601",
   "metadata": {},
   "outputs": [
    {
     "data": {
      "image/png": "[encoded data removed]",
      "text/plain": [
       "<Figure size 432x288 with 1 Axes>"
      ]
     },
     "metadata": {},
     "output_type": "display_data"
    }
   ],
   "source": [
    "#visualizing the RainToday column where 0 denotes no and 1 denotes yes.\n",
    "#Here we see there is only 26% chance of rain Today.\n",
    "\n",
    "import matplotlib.pyplot as plt\n",
    "plt.pie(df['RainToday_Yes'].value_counts().values,\n",
    "        labels = df['RainToday_Yes'].value_counts().index,\n",
    "        autopct='%1.1f%%')\n",
    "plt.show()"
   ]
  },
  {
   "cell_type": "code",
   "execution_count": 30,
   "id": "52be3db0",
   "metadata": {},
   "outputs": [
    {
     "data": {
      "image/png": "[encoded data removed]",
      "text/plain": [
       "<Figure size 432x288 with 1 Axes>"
      ]
     },
     "metadata": {},
     "output_type": "display_data"
    }
   ],
   "source": [
    "#visualizing the RainTomorrow column where 0 denotes no and 1 denotes yes.\n",
    "#Here we see there is only 25.9% chance of rain Today.\n",
    "\n",
    "import matplotlib.pyplot as plt\n",
    "plt.pie(df['RainTomorrow_Yes'].value_counts().values,\n",
    "        labels = df['RainTomorrow_Yes'].value_counts().index,\n",
    "        autopct='%1.1f%%')\n",
    "plt.show()"
   ]
  },
  {
   "cell_type": "markdown",
   "id": "ab769d85",
   "metadata": {},
   "source": [
    "MODEL-1\n",
    "\n",
    "CLASSIFICATION TREE"
   ]
  },
  {
   "cell_type": "code",
   "execution_count": 31,
   "id": "57844feb",
   "metadata": {},
   "outputs": [],
   "source": [
    "#split data into dependent and Indepent variable(A is independent vriable while B is dependent variable)\n",
    "A=df.loc[:,df.columns!='RainTomorrow_Yes']\n",
    "B=df['RainTomorrow_Yes']"
   ]
  },
  {
   "cell_type": "code",
   "execution_count": 32,
   "id": "94a12dd0",
   "metadata": {},
   "outputs": [
    {
     "data": {
      "text/html": [
       "<div>\n",
       "<style scoped>\n",
       "    .dataframe tbody tr th:only-of-type {\n",
       "        vertical-align: middle;\n",
       "    }\n",
       "\n",
       "    .dataframe tbody tr th {\n",
       "        vertical-align: top;\n",
       "    }\n",
       "\n",
       "    .dataframe thead th {\n",
       "        text-align: right;\n",
       "    }\n",
       "</style>\n",
       "<table border=\"1\" class=\"dataframe\">\n",
       "  <thead>\n",
       "    <tr style=\"text-align: right;\">\n",
       "      <th></th>\n",
       "      <th>Date</th>\n",
       "      <th>Location</th>\n",
       "      <th>MinTemp</th>\n",
       "      <th>MaxTemp</th>\n",
       "      <th>Rainfall</th>\n",
       "      <th>Evaporation</th>\n",
       "      <th>Sunshine</th>\n",
       "      <th>Humidity9am</th>\n",
       "      <th>Humidity3pm</th>\n",
       "      <th>Pressure9am</th>\n",
       "      <th>Pressure3pm</th>\n",
       "      <th>Cloud9am</th>\n",
       "      <th>Cloud3pm</th>\n",
       "      <th>Temp9am</th>\n",
       "      <th>Temp3pm</th>\n",
       "      <th>RainToday_Yes</th>\n",
       "    </tr>\n",
       "  </thead>\n",
       "  <tbody>\n",
       "    <tr>\n",
       "      <th>0</th>\n",
       "      <td>212008.0</td>\n",
       "      <td>1</td>\n",
       "      <td>19.5</td>\n",
       "      <td>19.5</td>\n",
       "      <td>15.6888</td>\n",
       "      <td>6.200000</td>\n",
       "      <td>0.0</td>\n",
       "      <td>92.0</td>\n",
       "      <td>84.0</td>\n",
       "      <td>1017.6</td>\n",
       "      <td>1017.4</td>\n",
       "      <td>8.0</td>\n",
       "      <td>8.0</td>\n",
       "      <td>20.7</td>\n",
       "      <td>20.9</td>\n",
       "      <td>1</td>\n",
       "    </tr>\n",
       "    <tr>\n",
       "      <th>1</th>\n",
       "      <td>222008.0</td>\n",
       "      <td>1</td>\n",
       "      <td>19.5</td>\n",
       "      <td>19.5</td>\n",
       "      <td>15.6888</td>\n",
       "      <td>3.400000</td>\n",
       "      <td>2.7</td>\n",
       "      <td>83.0</td>\n",
       "      <td>73.0</td>\n",
       "      <td>1017.9</td>\n",
       "      <td>1016.4</td>\n",
       "      <td>7.0</td>\n",
       "      <td>7.0</td>\n",
       "      <td>22.4</td>\n",
       "      <td>24.8</td>\n",
       "      <td>1</td>\n",
       "    </tr>\n",
       "    <tr>\n",
       "      <th>2</th>\n",
       "      <td>232008.0</td>\n",
       "      <td>1</td>\n",
       "      <td>21.6</td>\n",
       "      <td>21.6</td>\n",
       "      <td>15.6888</td>\n",
       "      <td>2.400000</td>\n",
       "      <td>0.1</td>\n",
       "      <td>88.0</td>\n",
       "      <td>86.0</td>\n",
       "      <td>1016.7</td>\n",
       "      <td>1015.6</td>\n",
       "      <td>7.0</td>\n",
       "      <td>8.0</td>\n",
       "      <td>23.5</td>\n",
       "      <td>23.0</td>\n",
       "      <td>1</td>\n",
       "    </tr>\n",
       "    <tr>\n",
       "      <th>3</th>\n",
       "      <td>242008.0</td>\n",
       "      <td>1</td>\n",
       "      <td>20.2</td>\n",
       "      <td>20.2</td>\n",
       "      <td>18.8000</td>\n",
       "      <td>2.200000</td>\n",
       "      <td>0.0</td>\n",
       "      <td>83.0</td>\n",
       "      <td>90.0</td>\n",
       "      <td>1014.2</td>\n",
       "      <td>1011.8</td>\n",
       "      <td>8.0</td>\n",
       "      <td>8.0</td>\n",
       "      <td>21.4</td>\n",
       "      <td>20.9</td>\n",
       "      <td>1</td>\n",
       "    </tr>\n",
       "    <tr>\n",
       "      <th>4</th>\n",
       "      <td>252008.0</td>\n",
       "      <td>1</td>\n",
       "      <td>19.7</td>\n",
       "      <td>19.7</td>\n",
       "      <td>77.4000</td>\n",
       "      <td>5.187432</td>\n",
       "      <td>0.0</td>\n",
       "      <td>88.0</td>\n",
       "      <td>74.0</td>\n",
       "      <td>1008.3</td>\n",
       "      <td>1004.8</td>\n",
       "      <td>8.0</td>\n",
       "      <td>8.0</td>\n",
       "      <td>22.5</td>\n",
       "      <td>25.5</td>\n",
       "      <td>1</td>\n",
       "    </tr>\n",
       "  </tbody>\n",
       "</table>\n",
       "</div>"
      ],
      "text/plain": [
       "       Date  Location  MinTemp  MaxTemp  Rainfall  Evaporation  Sunshine  \\\n",
       "0  212008.0         1     19.5     19.5   15.6888     6.200000       0.0   \n",
       "1  222008.0         1     19.5     19.5   15.6888     3.400000       2.7   \n",
       "2  232008.0         1     21.6     21.6   15.6888     2.400000       0.1   \n",
       "3  242008.0         1     20.2     20.2   18.8000     2.200000       0.0   \n",
       "4  252008.0         1     19.7     19.7   77.4000     5.187432       0.0   \n",
       "\n",
       "   Humidity9am  Humidity3pm  Pressure9am  Pressure3pm  Cloud9am  Cloud3pm  \\\n",
       "0         92.0         84.0       1017.6       1017.4       8.0       8.0   \n",
       "1         83.0         73.0       1017.9       1016.4       7.0       7.0   \n",
       "2         88.0         86.0       1016.7       1015.6       7.0       8.0   \n",
       "3         83.0         90.0       1014.2       1011.8       8.0       8.0   \n",
       "4         88.0         74.0       1008.3       1004.8       8.0       8.0   \n",
       "\n",
       "   Temp9am  Temp3pm  RainToday_Yes  \n",
       "0     20.7     20.9              1  \n",
       "1     22.4     24.8              1  \n",
       "2     23.5     23.0              1  \n",
       "3     21.4     20.9              1  \n",
       "4     22.5     25.5              1  "
      ]
     },
     "execution_count": 32,
     "metadata": {},
     "output_type": "execute_result"
    }
   ],
   "source": [
    "#showing the 1st five rows of independent variable\n",
    "A.head()"
   ]
  },
  {
   "cell_type": "code",
   "execution_count": 33,
   "id": "4f7d26a6",
   "metadata": {},
   "outputs": [
    {
     "data": {
      "text/plain": [
       "0    1\n",
       "1    1\n",
       "2    1\n",
       "3    1\n",
       "4    1\n",
       "Name: RainTomorrow_Yes, dtype: uint8"
      ]
     },
     "execution_count": 33,
     "metadata": {},
     "output_type": "execute_result"
    }
   ],
   "source": [
    "#showing the 1st 5 rows of dependent variable\n",
    "B.head()"
   ]
  },
  {
   "cell_type": "code",
   "execution_count": 34,
   "id": "582030c8",
   "metadata": {},
   "outputs": [
    {
     "data": {
      "text/plain": [
       "((3337, 16), (3337,))"
      ]
     },
     "execution_count": 34,
     "metadata": {},
     "output_type": "execute_result"
    }
   ],
   "source": [
    "#apply shape function to find the shape of both the variables\n",
    "\n",
    "A.shape,B.shape"
   ]
  },
  {
   "cell_type": "markdown",
   "id": "936a19e2",
   "metadata": {},
   "source": [
    "TRAIN-TEST-SPLIT"
   ]
  },
  {
   "cell_type": "code",
   "execution_count": 35,
   "id": "bdfa382c",
   "metadata": {},
   "outputs": [],
   "source": [
    "#apply train_test_split function to split the data into 2 train set and 2 test set of both variables.\n",
    "\n",
    "from sklearn.model_selection import train_test_split\n",
    "A_train,A_test,B_train,B_test=train_test_split(A,B,test_size=0.2,random_state=0)"
   ]
  },
  {
   "cell_type": "code",
   "execution_count": 36,
   "id": "4624240c",
   "metadata": {},
   "outputs": [
    {
     "data": {
      "text/plain": [
       "((2669, 16), (2669,))"
      ]
     },
     "execution_count": 36,
     "metadata": {},
     "output_type": "execute_result"
    }
   ],
   "source": [
    "#apply shape function to find the shape of train set of both variables.\n",
    "\n",
    "A_train.shape,B_train.shape"
   ]
  },
  {
   "cell_type": "code",
   "execution_count": 37,
   "id": "6fcad88b",
   "metadata": {},
   "outputs": [
    {
     "data": {
      "text/plain": [
       "((668, 16), (668,))"
      ]
     },
     "execution_count": 37,
     "metadata": {},
     "output_type": "execute_result"
    }
   ],
   "source": [
    "#apply shape function for finding the test size of both variables.\n",
    "\n",
    "A_test.shape,B_test.shape"
   ]
  },
  {
   "cell_type": "markdown",
   "id": "94bb9624",
   "metadata": {},
   "source": [
    "TRAINING REGRESSION TREE"
   ]
  },
  {
   "cell_type": "code",
   "execution_count": 38,
   "id": "494bd131",
   "metadata": {},
   "outputs": [],
   "source": [
    "#import library and create a model\n",
    "\n",
    "from sklearn import tree\n",
    "clftree=tree.DecisionTreeClassifier(max_depth=2)"
   ]
  },
  {
   "cell_type": "code",
   "execution_count": 39,
   "id": "e54fd49e",
   "metadata": {},
   "outputs": [
    {
     "data": {
      "text/plain": [
       "DecisionTreeClassifier(max_depth=2)"
      ]
     },
     "execution_count": 39,
     "metadata": {},
     "output_type": "execute_result"
    }
   ],
   "source": [
    "#fit the model\n",
    "clftree.fit(A_train,B_train)"
   ]
  },
  {
   "cell_type": "code",
   "execution_count": 40,
   "id": "a9993102",
   "metadata": {},
   "outputs": [],
   "source": [
    "#predict value using trained model\n",
    "\n",
    "B_train_pred=clftree.predict(A_train)\n",
    "B_test_pred=clftree.predict(A_test)"
   ]
  },
  {
   "cell_type": "code",
   "execution_count": 41,
   "id": "ed67a896",
   "metadata": {},
   "outputs": [
    {
     "data": {
      "text/plain": [
       "array([0, 0, 0, 0, 0, 0, 0, 0, 1, 0, 0, 0, 0, 0, 0, 0, 0, 0, 0, 0, 0, 0,\n",
       "       0, 0, 0, 1, 0, 0, 0, 0, 0, 0, 0, 0, 0, 0, 0, 0, 0, 0, 0, 0, 0, 0,\n",
       "       0, 0, 0, 1, 0, 0, 1, 0, 1, 0, 0, 0, 0, 0, 0, 0, 1, 0, 0, 0, 0, 0,\n",
       "       0, 0, 0, 0, 0, 0, 0, 0, 1, 0, 0, 0, 0, 0, 0, 0, 0, 0, 0, 1, 0, 1,\n",
       "       0, 0, 0, 0, 0, 0, 0, 0, 0, 0, 0, 0, 0, 0, 0, 0, 0, 0, 0, 0, 0, 1,\n",
       "       0, 1, 0, 0, 1, 0, 0, 0, 0, 0, 0, 0, 1, 0, 0, 1, 0, 1, 0, 0, 0, 0,\n",
       "       0, 1, 1, 0, 0, 0, 0, 0, 0, 1, 0, 0, 0, 0, 0, 0, 0, 0, 0, 0, 0, 0,\n",
       "       0, 0, 1, 0, 0, 0, 0, 0, 0, 0, 0, 1, 0, 0, 0, 0, 0, 0, 0, 0, 0, 0,\n",
       "       0, 0, 0, 0, 0, 1, 1, 0, 0, 0, 1, 0, 0, 1, 0, 0, 0, 1, 0, 0, 0, 0,\n",
       "       1, 0, 0, 0, 0, 1, 1, 0, 1, 0, 0, 0, 0, 0, 0, 0, 0, 0, 0, 0, 0, 1,\n",
       "       0, 0, 0, 0, 0, 0, 0, 0, 0, 0, 1, 0, 0, 0, 0, 0, 0, 0, 0, 1, 0, 0,\n",
       "       0, 0, 0, 0, 0, 0, 0, 0, 0, 1, 0, 0, 0, 0, 0, 0, 0, 0, 0, 0, 0, 1,\n",
       "       0, 0, 1, 0, 0, 0, 0, 0, 0, 0, 0, 1, 0, 0, 1, 0, 0, 0, 0, 0, 0, 1,\n",
       "       0, 0, 0, 0, 0, 0, 0, 1, 0, 1, 0, 0, 0, 1, 0, 0, 0, 0, 0, 0, 0, 0,\n",
       "       0, 0, 0, 0, 0, 0, 0, 0, 1, 0, 0, 0, 1, 1, 0, 0, 0, 0, 0, 0, 1, 0,\n",
       "       0, 0, 0, 0, 0, 0, 1, 0, 0, 0, 0, 0, 0, 0, 0, 0, 0, 0, 0, 0, 0, 0,\n",
       "       0, 0, 0, 0, 0, 0, 0, 0, 0, 1, 0, 0, 0, 1, 0, 0, 0, 0, 0, 0, 0, 0,\n",
       "       0, 0, 0, 0, 0, 0, 0, 0, 0, 0, 1, 0, 0, 0, 0, 1, 0, 0, 0, 0, 1, 1,\n",
       "       0, 0, 0, 0, 0, 0, 0, 0, 0, 0, 0, 0, 0, 0, 1, 0, 0, 0, 1, 0, 0, 0,\n",
       "       0, 0, 0, 0, 0, 0, 0, 0, 1, 0, 1, 0, 0, 0, 0, 0, 0, 0, 0, 0, 0, 0,\n",
       "       0, 0, 0, 0, 0, 1, 0, 0, 1, 0, 0, 0, 0, 0, 0, 1, 0, 0, 0, 0, 0, 0,\n",
       "       0, 0, 0, 0, 0, 0, 0, 0, 0, 0, 0, 0, 0, 0, 0, 0, 0, 0, 1, 0, 0, 1,\n",
       "       0, 0, 0, 0, 0, 0, 0, 1, 0, 0, 0, 0, 0, 0, 0, 0, 0, 0, 0, 0, 0, 0,\n",
       "       0, 0, 0, 0, 0, 0, 0, 1, 1, 0, 0, 0, 0, 0, 0, 0, 0, 0, 0, 1, 0, 0,\n",
       "       0, 0, 0, 0, 1, 0, 0, 0, 0, 1, 0, 0, 0, 0, 0, 1, 0, 0, 0, 0, 0, 1,\n",
       "       0, 0, 0, 0, 1, 0, 0, 0, 0, 0, 0, 0, 0, 0, 0, 0, 0, 0, 1, 0, 0, 0,\n",
       "       0, 0, 0, 0, 0, 0, 0, 0, 1, 1, 1, 0, 0, 0, 0, 0, 0, 0, 0, 0, 0, 0,\n",
       "       0, 0, 0, 0, 0, 0, 0, 0, 0, 0, 0, 0, 0, 0, 0, 0, 0, 0, 0, 0, 0, 0,\n",
       "       0, 0, 0, 0, 0, 1, 0, 0, 0, 0, 0, 0, 0, 0, 0, 0, 0, 1, 0, 1, 0, 0,\n",
       "       0, 1, 0, 0, 0, 0, 0, 0, 0, 1, 0, 0, 0, 0, 0, 0, 0, 0, 0, 0, 0, 0,\n",
       "       1, 0, 0, 0, 0, 0, 0, 0], dtype=uint8)"
      ]
     },
     "execution_count": 41,
     "metadata": {},
     "output_type": "execute_result"
    }
   ],
   "source": [
    "B_test_pred"
   ]
  },
  {
   "cell_type": "markdown",
   "id": "b707467f",
   "metadata": {},
   "source": [
    "MODEL PERFORMANCE"
   ]
  },
  {
   "cell_type": "code",
   "execution_count": 42,
   "id": "da498875",
   "metadata": {},
   "outputs": [],
   "source": [
    "#import accuracy prediction libreay like confusion matrix and accruacy score\n",
    "\n",
    "from sklearn.metrics import accuracy_score,confusion_matrix"
   ]
  },
  {
   "cell_type": "code",
   "execution_count": 43,
   "id": "5e60fa20",
   "metadata": {},
   "outputs": [
    {
     "data": {
      "text/plain": [
       "array([[1893,   69],\n",
       "       [ 412,  295]], dtype=int64)"
      ]
     },
     "execution_count": 43,
     "metadata": {},
     "output_type": "execute_result"
    }
   ],
   "source": [
    "#calculate confusion matrix for training set\n",
    "confusion_matrix(B_train,B_train_pred)"
   ]
  },
  {
   "cell_type": "code",
   "execution_count": 44,
   "id": "0773860e",
   "metadata": {},
   "outputs": [
    {
     "data": {
      "text/plain": [
       "array([[488,  22],\n",
       "       [100,  58]], dtype=int64)"
      ]
     },
     "execution_count": 44,
     "metadata": {},
     "output_type": "execute_result"
    }
   ],
   "source": [
    "#calculate confusion matrix for test set\n",
    "confusion_matrix(B_test,B_test_pred)"
   ]
  },
  {
   "cell_type": "markdown",
   "id": "fcf988d0",
   "metadata": {},
   "source": [
    "ACCURACY PREDICTION"
   ]
  },
  {
   "cell_type": "code",
   "execution_count": 45,
   "id": "b2773f88",
   "metadata": {},
   "outputs": [
    {
     "data": {
      "text/plain": [
       "0.8197826901461222"
      ]
     },
     "execution_count": 45,
     "metadata": {},
     "output_type": "execute_result"
    }
   ],
   "source": [
    "#predict accuracy of the model using train data\n",
    "accuracy_score(B_train,B_train_pred)"
   ]
  },
  {
   "cell_type": "code",
   "execution_count": 46,
   "id": "4468d078",
   "metadata": {},
   "outputs": [
    {
     "data": {
      "text/plain": [
       "0.8173652694610778"
      ]
     },
     "execution_count": 46,
     "metadata": {},
     "output_type": "execute_result"
    }
   ],
   "source": [
    "#predict accuracy of the model using test data\n",
    "accuracy_score(B_test,B_test_pred)"
   ]
  },
  {
   "cell_type": "markdown",
   "id": "e80835b8",
   "metadata": {},
   "source": [
    "PLOTTING CLASSIFICATION TREE"
   ]
  },
  {
   "cell_type": "code",
   "execution_count": 47,
   "id": "07352f29",
   "metadata": {},
   "outputs": [],
   "source": [
    "dot_data=tree.export_graphviz(clftree,out_file=None,feature_names=A_train.columns,filled=True)"
   ]
  },
  {
   "cell_type": "code",
   "execution_count": 58,
   "id": "b71bed20",
   "metadata": {},
   "outputs": [],
   "source": [
    "#loading the tree constructing librery\n",
    "from IPython.display import Image\n",
    "import pydotplus"
   ]
  },
  {
   "cell_type": "code",
   "execution_count": 59,
   "id": "0fb21714",
   "metadata": {},
   "outputs": [
    {
     "data": {
      "image/png": "[encoded data removed]",
      "text/plain": [
       "<IPython.core.display.Image object>"
      ]
     },
     "execution_count": 59,
     "metadata": {},
     "output_type": "execute_result"
    }
   ],
   "source": [
    "graph=pydotplus.graph_from_dot_data(dot_data)\n",
    "Image(graph.create_png())"
   ]
  },
  {
   "cell_type": "markdown",
   "id": "54f143d7",
   "metadata": {},
   "source": [
    "CONTROLLING TREE GROWTH"
   ]
  },
  {
   "cell_type": "markdown",
   "id": "495ae459",
   "metadata": {},
   "source": [
    "#create another model by specifying hyper parameter.\n",
    "clftree2=tree.DecisionTreeClassifier(min_samples_leaf=20,max_depth=4)\n",
    "clftree2.fit(A_train,B_train)"
   ]
  },
  {
   "cell_type": "code",
   "execution_count": 61,
   "id": "408808cc",
   "metadata": {},
   "outputs": [],
   "source": [
    "dot_data=tree.export_graphviz(clftree2,out_file=None,feature_names=A_train.columns,filled=True)\n"
   ]
  },
  {
   "cell_type": "code",
   "execution_count": 78,
   "id": "c9e5072d",
   "metadata": {},
   "outputs": [
    {
     "data": {
      "image/png": "[encoded data removed]",
      "text/plain": [
       "<IPython.core.display.Image object>"
      ]
     },
     "execution_count": 78,
     "metadata": {},
     "output_type": "execute_result"
    }
   ],
   "source": [
    "#create tree using dot_data \n",
    "graph2=pydotplus.graph_from_dot_data(dot_data)\n",
    "Image(graph2.create_png())"
   ]
  },
  {
   "cell_type": "markdown",
   "id": "6fce7b41",
   "metadata": {},
   "source": [
    "ACCURACY PREDICTION"
   ]
  },
  {
   "cell_type": "code",
   "execution_count": 79,
   "id": "9072a3f9",
   "metadata": {},
   "outputs": [
    {
     "data": {
      "text/plain": [
       "0.8353293413173652"
      ]
     },
     "execution_count": 79,
     "metadata": {},
     "output_type": "execute_result"
    }
   ],
   "source": [
    "#classification model2 accuracy\n",
    "accuracy_score(B_test,clftree2.predict(A_test))"
   ]
  },
  {
   "cell_type": "markdown",
   "id": "1eba397d",
   "metadata": {},
   "source": [
    "ENSEMBLE TECHNIQUES:-\n",
    "\n",
    "The problem with normal decision tree is high varieance that why we use ensemble techniques"
   ]
  },
  {
   "cell_type": "markdown",
   "id": "dee2e05c",
   "metadata": {},
   "source": [
    "(A)BAGGING"
   ]
  },
  {
   "cell_type": "code",
   "execution_count": 80,
   "id": "8cf3ec13",
   "metadata": {},
   "outputs": [],
   "source": [
    "#bagging is uesd to reduce the varience of a decision tree.\n",
    "#Bagging used to combine multiple models to improve performance and to increase the diversity of the model.\n",
    "#It helps to reduce overlifting by aggregating multiples model.\n",
    "\n",
    "#import tree library\n",
    "from sklearn import tree"
   ]
  },
  {
   "cell_type": "code",
   "execution_count": 81,
   "id": "73fbb231",
   "metadata": {},
   "outputs": [],
   "source": [
    "#create a tree object\n",
    "clftree=tree.DecisionTreeClassifier()"
   ]
  },
  {
   "cell_type": "code",
   "execution_count": 82,
   "id": "78b51b28",
   "metadata": {},
   "outputs": [],
   "source": [
    "#importing bagging library\n",
    "from sklearn.ensemble import BaggingClassifier"
   ]
  },
  {
   "cell_type": "markdown",
   "id": "7e8a9467",
   "metadata": {},
   "source": [
    "OBJECT CREATED"
   ]
  },
  {
   "cell_type": "code",
   "execution_count": 83,
   "id": "a022a25e",
   "metadata": {},
   "outputs": [],
   "source": [
    "#create a bagging model\n",
    "bag_clf=BaggingClassifier(base_estimator=clftree,n_jobs=-1,random_state=42)"
   ]
  },
  {
   "cell_type": "markdown",
   "id": "24585fdf",
   "metadata": {},
   "source": [
    "TRAIN AND FIT MODEL"
   ]
  },
  {
   "cell_type": "code",
   "execution_count": 84,
   "id": "60a7d756",
   "metadata": {},
   "outputs": [
    {
     "data": {
      "text/plain": [
       "BaggingClassifier(base_estimator=DecisionTreeClassifier(), n_jobs=-1,\n",
       "                  random_state=42)"
      ]
     },
     "execution_count": 84,
     "metadata": {},
     "output_type": "execute_result"
    }
   ],
   "source": [
    "#train the bagging model using training data\n",
    "bag_clf.fit(A_train,B_train)"
   ]
  },
  {
   "cell_type": "markdown",
   "id": "681f589d",
   "metadata": {},
   "source": [
    "CONFUSION MATRIX"
   ]
  },
  {
   "cell_type": "code",
   "execution_count": 85,
   "id": "1818de85",
   "metadata": {},
   "outputs": [
    {
     "data": {
      "text/plain": [
       "array([[474,  36],\n",
       "       [ 77,  81]], dtype=int64)"
      ]
     },
     "execution_count": 85,
     "metadata": {},
     "output_type": "execute_result"
    }
   ],
   "source": [
    "#calculate confusion matrix\n",
    "confusion_matrix(B_test,bag_clf.predict(A_test))"
   ]
  },
  {
   "cell_type": "markdown",
   "id": "bb29f7f9",
   "metadata": {},
   "source": [
    "ACCURACY PREDICTION"
   ]
  },
  {
   "cell_type": "code",
   "execution_count": 86,
   "id": "a3498451",
   "metadata": {},
   "outputs": [
    {
     "data": {
      "text/plain": [
       "0.9846384413638066"
      ]
     },
     "execution_count": 86,
     "metadata": {},
     "output_type": "execute_result"
    }
   ],
   "source": [
    "#calculate accuracy score using train data\n",
    "accuracy_score(B_train,bag_clf.predict(A_train))"
   ]
  },
  {
   "cell_type": "code",
   "execution_count": 87,
   "id": "1c4eb711",
   "metadata": {},
   "outputs": [
    {
     "data": {
      "text/plain": [
       "0.8308383233532934"
      ]
     },
     "execution_count": 87,
     "metadata": {},
     "output_type": "execute_result"
    }
   ],
   "source": [
    "#calculate accuracy score using test data\n",
    "accuracy_score(B_test,bag_clf.predict(A_test))"
   ]
  },
  {
   "cell_type": "markdown",
   "id": "cf7b731a",
   "metadata": {},
   "source": [
    "(B)RANDOM FOREST"
   ]
  },
  {
   "cell_type": "code",
   "execution_count": 88,
   "id": "f367ceb4",
   "metadata": {},
   "outputs": [],
   "source": [
    "#The disadvantage of bagging tree is it created corelated tree and the models are similar \n",
    "# so we use subset of predictors variables so that we get different splits in each models.\n",
    "# random forest makes the random selection of features rather then using all features to develop tree.\n",
    "\n",
    "\n",
    "#import library\n",
    "from sklearn.ensemble import RandomForestClassifier"
   ]
  },
  {
   "cell_type": "markdown",
   "id": "b37ea856",
   "metadata": {},
   "source": [
    "OBJECT CREATED AND FIT MODEL"
   ]
  },
  {
   "cell_type": "code",
   "execution_count": 89,
   "id": "9f90b9e0",
   "metadata": {},
   "outputs": [],
   "source": [
    "#create a random forest object\n",
    "rf_clf=RandomForestClassifier(n_jobs=-1,random_state=42)"
   ]
  },
  {
   "cell_type": "code",
   "execution_count": 90,
   "id": "c725c952",
   "metadata": {},
   "outputs": [
    {
     "data": {
      "text/plain": [
       "RandomForestClassifier(n_jobs=-1, random_state=42)"
      ]
     },
     "execution_count": 90,
     "metadata": {},
     "output_type": "execute_result"
    }
   ],
   "source": [
    "#fitting and training the object using training data set\n",
    "rf_clf.fit(A_train,B_train)"
   ]
  },
  {
   "cell_type": "markdown",
   "id": "97f44ebe",
   "metadata": {},
   "source": [
    "CONFUSION MATRIX"
   ]
  },
  {
   "cell_type": "code",
   "execution_count": 91,
   "id": "41ccfd7c",
   "metadata": {},
   "outputs": [
    {
     "data": {
      "text/plain": [
       "array([[479,  31],\n",
       "       [ 73,  85]], dtype=int64)"
      ]
     },
     "execution_count": 91,
     "metadata": {},
     "output_type": "execute_result"
    }
   ],
   "source": [
    "#calculate the confusion matrix\n",
    "confusion_matrix(B_test,rf_clf.predict(A_test))"
   ]
  },
  {
   "cell_type": "markdown",
   "id": "eb37594d",
   "metadata": {},
   "source": [
    "ACCURACY PREDICTION"
   ]
  },
  {
   "cell_type": "code",
   "execution_count": 94,
   "id": "8425b88d",
   "metadata": {},
   "outputs": [
    {
     "data": {
      "text/plain": [
       "0.844311377245509"
      ]
     },
     "execution_count": 94,
     "metadata": {},
     "output_type": "execute_result"
    }
   ],
   "source": [
    "#calculate the accuracy score\n",
    "accuracy_score(B_test,rf_clf.predict(A_test))"
   ]
  },
  {
   "cell_type": "markdown",
   "id": "58ff4e06",
   "metadata": {},
   "source": [
    "(C)BOOSTING"
   ]
  },
  {
   "cell_type": "markdown",
   "id": "1f3566c8",
   "metadata": {},
   "source": [
    "boosting is another ensemble procedure to make a collection of predictors. The process of turning a weak learer into a strong learner.There are three types of Boosting.The objective is to solve net error from the prior trees.\n",
    "\n",
    "1-gradient boosting\n",
    "\n",
    "2-ada boostong\n",
    "\n",
    "3-XG booosting"
   ]
  },
  {
   "cell_type": "markdown",
   "id": "6384a7aa",
   "metadata": {},
   "source": [
    "(1)Gradient Boosting:-\n",
    "it can optimize any differentiable loss function.It support different loss function.It works well with intraction."
   ]
  },
  {
   "cell_type": "code",
   "execution_count": 95,
   "id": "de556300",
   "metadata": {},
   "outputs": [],
   "source": [
    "#loading gradient boosting library\n",
    "from sklearn.ensemble import GradientBoostingClassifier"
   ]
  },
  {
   "cell_type": "markdown",
   "id": "6eaa45e1",
   "metadata": {},
   "source": [
    "CREATE OBJECT AND FIT THE MODEL"
   ]
  },
  {
   "cell_type": "code",
   "execution_count": 97,
   "id": "bf0e1b6b",
   "metadata": {},
   "outputs": [],
   "source": [
    "#create a gradient booting object\n",
    "gbc_clf=GradientBoostingClassifier()"
   ]
  },
  {
   "cell_type": "code",
   "execution_count": 98,
   "id": "cfbed0dd",
   "metadata": {},
   "outputs": [
    {
     "data": {
      "text/plain": [
       "GradientBoostingClassifier()"
      ]
     },
     "execution_count": 98,
     "metadata": {},
     "output_type": "execute_result"
    }
   ],
   "source": [
    "#fit the gradient boosting object\n",
    "gbc_clf.fit(A_train,B_train)"
   ]
  },
  {
   "cell_type": "markdown",
   "id": "a3f09bd1",
   "metadata": {},
   "source": [
    "ACCURACY"
   ]
  },
  {
   "cell_type": "code",
   "execution_count": 100,
   "id": "2a4fac9d",
   "metadata": {},
   "outputs": [
    {
     "data": {
      "text/plain": [
       "0.8413173652694611"
      ]
     },
     "execution_count": 100,
     "metadata": {},
     "output_type": "execute_result"
    }
   ],
   "source": [
    "#predict accuracy\n",
    "accuracy_score(B_test,gbc_clf.predict(A_test))"
   ]
  },
  {
   "cell_type": "markdown",
   "id": "6bda9a97",
   "metadata": {},
   "source": [
    "CREATE ANOTHER MODEL WITH HYPERPARAMETER"
   ]
  },
  {
   "cell_type": "code",
   "execution_count": 102,
   "id": "61bd5b16",
   "metadata": {},
   "outputs": [],
   "source": [
    "#create another object for better performance of the model\n",
    "gbc_clf2=GradientBoostingClassifier(learning_rate=0.02,n_estimators=1000,max_depth=2)"
   ]
  },
  {
   "cell_type": "code",
   "execution_count": 103,
   "id": "7335a707",
   "metadata": {},
   "outputs": [
    {
     "data": {
      "text/plain": [
       "GradientBoostingClassifier(learning_rate=0.02, max_depth=2, n_estimators=1000)"
      ]
     },
     "execution_count": 103,
     "metadata": {},
     "output_type": "execute_result"
    }
   ],
   "source": [
    "#fit the model\n",
    "gbc_clf2.fit(A_train,B_train)"
   ]
  },
  {
   "cell_type": "markdown",
   "id": "5d751649",
   "metadata": {},
   "source": [
    "ACCURACY PREDICTION"
   ]
  },
  {
   "cell_type": "code",
   "execution_count": 104,
   "id": "82568549",
   "metadata": {},
   "outputs": [
    {
     "data": {
      "text/plain": [
       "0.8383233532934131"
      ]
     },
     "execution_count": 104,
     "metadata": {},
     "output_type": "execute_result"
    }
   ],
   "source": [
    "#find accuracy\n",
    "accuracy_score(B_test,gbc_clf2.predict(A_test))"
   ]
  },
  {
   "cell_type": "markdown",
   "id": "1315fd4f",
   "metadata": {},
   "source": [
    "(2)ADA BOOST:-\n",
    "\n",
    "it minimises loss function related to any classification error."
   ]
  },
  {
   "cell_type": "code",
   "execution_count": 108,
   "id": "7f6aa9b6",
   "metadata": {},
   "outputs": [],
   "source": [
    "#importing library\n",
    "from sklearn.ensemble import AdaBoostClassifier"
   ]
  },
  {
   "cell_type": "markdown",
   "id": "8cea78bd",
   "metadata": {},
   "source": [
    "OBJECT CREATED AND FIT THE MODEL"
   ]
  },
  {
   "cell_type": "code",
   "execution_count": 109,
   "id": "022e64ea",
   "metadata": {},
   "outputs": [],
   "source": [
    "#make a ada boost object\n",
    "ada_clf=AdaBoostClassifier(learning_rate=0.02,n_estimators=5000)"
   ]
  },
  {
   "cell_type": "code",
   "execution_count": 110,
   "id": "8fc05589",
   "metadata": {},
   "outputs": [
    {
     "data": {
      "text/plain": [
       "AdaBoostClassifier(learning_rate=0.02, n_estimators=5000)"
      ]
     },
     "execution_count": 110,
     "metadata": {},
     "output_type": "execute_result"
    }
   ],
   "source": [
    "#fit & train the model\n",
    "ada_clf.fit(A_train,B_train)"
   ]
  },
  {
   "cell_type": "markdown",
   "id": "c25d7b14",
   "metadata": {},
   "source": [
    "ACCURACY"
   ]
  },
  {
   "cell_type": "code",
   "execution_count": 111,
   "id": "53b90a55",
   "metadata": {},
   "outputs": [
    {
     "data": {
      "text/plain": [
       "0.8353293413173652"
      ]
     },
     "execution_count": 111,
     "metadata": {},
     "output_type": "execute_result"
    }
   ],
   "source": [
    "#calculate accuracy\n",
    "accuracy_score(B_test,ada_clf.predict(A_test))"
   ]
  },
  {
   "cell_type": "markdown",
   "id": "b8b39e37",
   "metadata": {},
   "source": [
    "ANOTHER OBJECT CREATED WITH LESS LEARNING RATE"
   ]
  },
  {
   "cell_type": "code",
   "execution_count": 112,
   "id": "0e3ae1bb",
   "metadata": {},
   "outputs": [],
   "source": [
    "#create another object of Ada boost for specifying hyper parameter and increases model's learning rate\n",
    "ada_clf2=AdaBoostClassifier(learning_rate=0.05,n_estimators=500)"
   ]
  },
  {
   "cell_type": "code",
   "execution_count": 113,
   "id": "2b6cc824",
   "metadata": {},
   "outputs": [
    {
     "data": {
      "text/plain": [
       "AdaBoostClassifier(learning_rate=0.05, n_estimators=500)"
      ]
     },
     "execution_count": 113,
     "metadata": {},
     "output_type": "execute_result"
    }
   ],
   "source": [
    "#fit and train the model\n",
    "ada_clf2.fit(A_train,B_train)"
   ]
  },
  {
   "cell_type": "markdown",
   "id": "641c2fa8",
   "metadata": {},
   "source": [
    "PREDICT ACCURACY"
   ]
  },
  {
   "cell_type": "code",
   "execution_count": 114,
   "id": "dc3c153c",
   "metadata": {},
   "outputs": [
    {
     "data": {
      "text/plain": [
       "0.8433870363431997"
      ]
     },
     "execution_count": 114,
     "metadata": {},
     "output_type": "execute_result"
    }
   ],
   "source": [
    "#predict accuracy\n",
    "accuracy_score(B_train,ada_clf2.predict(A_train))"
   ]
  },
  {
   "cell_type": "code",
   "execution_count": 115,
   "id": "6635b986",
   "metadata": {},
   "outputs": [
    {
     "data": {
      "text/plain": [
       "0.8383233532934131"
      ]
     },
     "execution_count": 115,
     "metadata": {},
     "output_type": "execute_result"
    }
   ],
   "source": [
    "#predict accuracy\n",
    "accuracy_score(B_test,ada_clf2.predict(A_test))"
   ]
  },
  {
   "cell_type": "markdown",
   "id": "146869a4",
   "metadata": {},
   "source": [
    "(3)XG BOOST:-\n",
    "\n",
    "excecution speed of this model is fast as compaired to other ensemble technique and generally it has better accuracy.\n",
    "It trains multiple decision trees and then combines the results.it allows models to learn quickly."
   ]
  },
  {
   "cell_type": "code",
   "execution_count": 116,
   "id": "7766ae20",
   "metadata": {},
   "outputs": [],
   "source": [
    "#import xg boost library\n",
    "import xgboost as xgb"
   ]
  },
  {
   "cell_type": "markdown",
   "id": "59693d1d",
   "metadata": {},
   "source": [
    "TRAIN & FIT THE MODEL"
   ]
  },
  {
   "cell_type": "code",
   "execution_count": 117,
   "id": "4aa10643",
   "metadata": {},
   "outputs": [],
   "source": [
    "#create xg boost object\n",
    "xgb_clf=xgb.XGBClassifier(max_depth=5,n_estimators=10000,learning_rate=0.3,n_jobs=-1)"
   ]
  },
  {
   "cell_type": "code",
   "execution_count": 118,
   "id": "41184d71",
   "metadata": {},
   "outputs": [
    {
     "data": {
      "text/plain": [
       "XGBClassifier(base_score=None, booster=None, callbacks=None,\n",
       "              colsample_bylevel=None, colsample_bynode=None,\n",
       "              colsample_bytree=None, early_stopping_rounds=None,\n",
       "              enable_categorical=False, eval_metric=None, feature_types=None,\n",
       "              gamma=None, gpu_id=None, grow_policy=None, importance_type=None,\n",
       "              interaction_constraints=None, learning_rate=0.3, max_bin=None,\n",
       "              max_cat_threshold=None, max_cat_to_onehot=None,\n",
       "              max_delta_step=None, max_depth=5, max_leaves=None,\n",
       "              min_child_weight=None, missing=nan, monotone_constraints=None,\n",
       "              n_estimators=10000, n_jobs=-1, num_parallel_tree=None,\n",
       "              predictor=None, random_state=None, ...)"
      ]
     },
     "execution_count": 118,
     "metadata": {},
     "output_type": "execute_result"
    }
   ],
   "source": [
    "#fit and train the object\n",
    "xgb_clf.fit(A_train,B_train)"
   ]
  },
  {
   "cell_type": "markdown",
   "id": "2de367a2",
   "metadata": {},
   "source": [
    "ACCURACY"
   ]
  },
  {
   "cell_type": "code",
   "execution_count": 119,
   "id": "430627b3",
   "metadata": {},
   "outputs": [
    {
     "data": {
      "text/plain": [
       "0.844311377245509"
      ]
     },
     "execution_count": 119,
     "metadata": {},
     "output_type": "execute_result"
    }
   ],
   "source": [
    "#accuracy\n",
    "accuracy_score(B_test,xgb_clf.predict(A_test))"
   ]
  },
  {
   "cell_type": "markdown",
   "id": "db46224e",
   "metadata": {},
   "source": [
    "VISUALIZATION"
   ]
  },
  {
   "cell_type": "code",
   "execution_count": 120,
   "id": "76f88721",
   "metadata": {},
   "outputs": [
    {
     "data": {
      "text/plain": [
       "<AxesSubplot:title={'center':'Feature importance'}, xlabel='F score', ylabel='Features'>"
      ]
     },
     "execution_count": 120,
     "metadata": {},
     "output_type": "execute_result"
    },
    {
     "data": {
      "image/png": "[encoded data removed]",
      "text/plain": [
       "<Figure size 432x288 with 1 Axes>"
      ]
     },
     "metadata": {
      "needs_background": "light"
     },
     "output_type": "display_data"
    }
   ],
   "source": [
    "#plot XGB with its features\n",
    "xgb.plot_importance(xgb_clf)"
   ]
  },
  {
   "cell_type": "markdown",
   "id": "2d459804",
   "metadata": {},
   "source": [
    "OBJECT CREATED WITH LESS LEARNING RATE"
   ]
  },
  {
   "cell_type": "code",
   "execution_count": 122,
   "id": "46184971",
   "metadata": {},
   "outputs": [],
   "source": [
    "#create another object by changing the hyper parameter\n",
    "xgb_clf=xgb.XGBClassifier(n_estimators=500,learning_rate=0.1,random_state=42)"
   ]
  },
  {
   "cell_type": "code",
   "execution_count": 123,
   "id": "29a318dd",
   "metadata": {},
   "outputs": [],
   "source": [
    "param_test={\n",
    "    'max_depth':range(3,10,2),\n",
    "    'gamma':[0.1,0.2,0.3],\n",
    "    'subsample':[0.8,0.9],\n",
    "    'colsample_bytree':[0.8,0.9],\n",
    "    'reg_alpha':[1e-2,0.1,1]\n",
    "}"
   ]
  },
  {
   "cell_type": "code",
   "execution_count": 124,
   "id": "89a335e4",
   "metadata": {},
   "outputs": [],
   "source": [
    "#load gridsearch library and create a gridseach object(as XG boost works better with gridsearch)\n",
    "from sklearn.model_selection import GridSearchCV\n",
    "grid_search=GridSearchCV(xgb_clf,param_test,n_jobs=-1,cv=5,scoring='accuracy')"
   ]
  },
  {
   "cell_type": "markdown",
   "id": "504eecb2",
   "metadata": {},
   "source": [
    "FIT AND TRAIN THE MODEL"
   ]
  },
  {
   "cell_type": "code",
   "execution_count": 125,
   "id": "81ed94a7",
   "metadata": {},
   "outputs": [
    {
     "data": {
      "text/plain": [
       "GridSearchCV(cv=5,\n",
       "             estimator=XGBClassifier(base_score=None, booster=None,\n",
       "                                     callbacks=None, colsample_bylevel=None,\n",
       "                                     colsample_bynode=None,\n",
       "                                     colsample_bytree=None,\n",
       "                                     early_stopping_rounds=None,\n",
       "                                     enable_categorical=False, eval_metric=None,\n",
       "                                     feature_types=None, gamma=None,\n",
       "                                     gpu_id=None, grow_policy=None,\n",
       "                                     importance_type=None,\n",
       "                                     interaction_constraints=None,\n",
       "                                     learning_rate=0.1, m...\n",
       "                                     max_delta_step=None, max_depth=None,\n",
       "                                     max_leaves=None, min_child_weight=None,\n",
       "                                     missing=nan, monotone_constraints=None,\n",
       "                                     n_estimators=500, n_jobs=None,\n",
       "                                     num_parallel_tree=None, predictor=None,\n",
       "                                     random_state=42, ...),\n",
       "             n_jobs=-1,\n",
       "             param_grid={'colsample_bytree': [0.8, 0.9],\n",
       "                         'gamma': [0.1, 0.2, 0.3], 'max_depth': range(3, 10, 2),\n",
       "                         'reg_alpha': [0.01, 0.1, 1], 'subsample': [0.8, 0.9]},\n",
       "             scoring='accuracy')"
      ]
     },
     "execution_count": 125,
     "metadata": {},
     "output_type": "execute_result"
    }
   ],
   "source": [
    "#fit and train the object\n",
    "grid_search.fit(A_train,B_train)"
   ]
  },
  {
   "cell_type": "code",
   "execution_count": 127,
   "id": "204c9542",
   "metadata": {},
   "outputs": [],
   "source": [
    "cvxg_clf=grid_search.best_estimator_"
   ]
  },
  {
   "cell_type": "markdown",
   "id": "69e44440",
   "metadata": {},
   "source": [
    "ACCURACY PREDICTION"
   ]
  },
  {
   "cell_type": "code",
   "execution_count": 128,
   "id": "30fea425",
   "metadata": {},
   "outputs": [
    {
     "data": {
      "text/plain": [
       "1.0"
      ]
     },
     "execution_count": 128,
     "metadata": {},
     "output_type": "execute_result"
    }
   ],
   "source": [
    "#predict accuracy using training data\n",
    "accuracy_score(B_train,cvxg_clf.predict(A_train))"
   ]
  },
  {
   "cell_type": "code",
   "execution_count": 129,
   "id": "02d073c2",
   "metadata": {},
   "outputs": [
    {
     "data": {
      "text/plain": [
       "0.8473053892215568"
      ]
     },
     "execution_count": 129,
     "metadata": {},
     "output_type": "execute_result"
    }
   ],
   "source": [
    "#predict accuracy using training data\n",
    "accuracy_score(B_test,cvxg_clf.predict(A_test))"
   ]
  },
  {
   "cell_type": "code",
   "execution_count": 130,
   "id": "e7f05b8e",
   "metadata": {},
   "outputs": [
    {
     "data": {
      "text/plain": [
       "{'colsample_bytree': 0.8,\n",
       " 'gamma': 0.3,\n",
       " 'max_depth': 9,\n",
       " 'reg_alpha': 1,\n",
       " 'subsample': 0.8}"
      ]
     },
     "execution_count": 130,
     "metadata": {},
     "output_type": "execute_result"
    }
   ],
   "source": [
    "#find the best values of hyperparameter where the model give its best accuracy.\n",
    "grid_search.best_params_"
   ]
  },
  {
   "cell_type": "markdown",
   "id": "1bce48b8",
   "metadata": {},
   "source": [
    "PROJECT QUESTIONS\n"
   ]
  },
  {
   "cell_type": "markdown",
   "id": "d7985290",
   "metadata": {},
   "source": [
    "1- YOUR VIEW ABOUT PROBLEM STATEMENT ?"
   ]
  },
  {
   "cell_type": "markdown",
   "id": "71da4ab6",
   "metadata": {},
   "source": [
    "The objective of the project is we have to create a Machine Learning model using various Classification Models to predict rainfall. But before that let's talk about the company who gave us the task for us. The Daily Buzz was founded many years ago by a group of journalists and it is a newspaper company. The company believed in a strong, independent newspaper that was vital to the health and well-being of any community. As the newspaper provides high-quality news to the people it can gain popularity. They were well-known for their interesting articles and local news coverage. After all this, they were struggling to attract more readers. To resolve this issue they make a column on weather forecasting in the newspaper where they would predict the weather for the coming days. The editor handpicked a team of experienced meteorologists to work on the new column. They were equipped with state-of-the-art technology and the latest weather forecasting tools. The team worked tirelessly to provide accurate and reliable predictions.\n",
    "\n",
    "The first edition of \"The Weather Oracle\" was published. The column included detailed predictions for the week ahead, including the temperature, humidity, and chances of precipitation. The editor-in-chief of The Daily Buzz realized that they could further improve the accuracy of their weather predictions. With this in mind, they decided to hire a machine-learning expert to create a machine-learning model for rainfall prediction. The Editor wants ML engineers to use Ensemble methods to get the best accuracy.\n",
    "\n",
    "Classification techniques such as decision tree classifiers and ensemble methods can be useful in predicting the weather. Weather prediction involves analyzing various factors such as temperature, humidity, wind speed, precipitation, and pressure, among others. These factors can be used as input features for building classification models.\n",
    "\n",
    "A decision tree classifier is a type of supervised learning algorithm that can be used to predict the weather. It works by recursively splitting the data into subsets based on the most significant input feature, which helps to create a tree-like structure. Each internal node of the tree represents a test on an input feature, and each leaf node represents a prediction. The decision tree classifier can be trained on historical weather data, and once the tree is constructed, it can be used to predict future weather conditions.\n",
    "\n",
    "Ensemble methods, on the other hand, combine multiple classification models to improve the accuracy of predictions. Random Forest is an example of an ensemble method that can be used to predict the weather. It combines multiple decision trees and uses bagging (bootstrap aggregating) to improve the accuracy of the predictions. In other words, it creates multiple decision trees using different subsets of the data and then averages the predictions to produce a final prediction.\n",
    "\n",
    "As an ML expert at The Daily Buzz, the company was given the task to create an ML model to predict rainfall. So, we have to create a Machine Learning Model using various Classification Models including Decision Trees and Ensemble methods and compare the accuracy of each model."
   ]
  },
  {
   "cell_type": "markdown",
   "id": "d63a3f6d",
   "metadata": {},
   "source": [
    "2-WHAT WILL BE YOUR APPROACH TO SOLVING THIS TASK?"
   ]
  },
  {
   "cell_type": "markdown",
   "id": "42d6fa3f",
   "metadata": {},
   "source": [
    "This is a weather prediction problem where we basically find out the rainfall status which is affected by many independent factors like humidity, pressure, cloud, tempreture, evaporation etc. This is a classification problem that is solved using classification tree and ensemble technique. This model is implemented by using the following steps such as:-\n",
    "\n",
    "(Model 1) Classification Tree:- \n",
    "\n",
    "(1) Import all required libraries \n",
    "\n",
    "(2) Load data \n",
    "\n",
    "(3) Perform EDA \n",
    "\n",
    "(4) Visualize data \n",
    "\n",
    "(5) Prepare data \n",
    "\n",
    "(6) Split data into training and testing \n",
    "\n",
    "(7)Trainning Classification tree \n",
    "\n",
    "(8) Plotting Classification tree \n",
    "\n",
    "(9) Controlling tree growth \n",
    "\n",
    "(10) Model performance.\n",
    "\n",
    "1. Importing all libraries and load data:- \n",
    "First of all import all the required libraries like pandas, NumPy, seaborn, scikit-learn etc. And load the data (sydney_rain-prediction.csv file) to train the model and test the model by showing the top five rows of the file. Data stores features:- Date, Location, MinTemp, MaxTemp, Rainfall, Evaporation, Sunshine, Humidity9am, Humidity3pm, Pressure9am, Pressure3pm, Cloud9am, Cloud3pm, Temp9am, Temp3pm, RainToday, RainTomorrow etc. I changed the Date column into string format as it was in date format, after that I removed the special character from the Date column and again converted into a float column. Likewise I chnaged the location column from object to integer column by replace method.\n",
    "\n",
    "\n",
    "2. Perform EDA:- \n",
    "Now perform an Exploratory Data Analysis. In Exploratory Data Analysis, firstly we check if there are Null values present or not. In this data there are 17 columns and 14 columns conatin null values. To remove the null value I filled the null value with mean of that column. Then I checked the information of the data, then describe the data which shows the mean value, standard deviation value, minimum value, maximum value. By using corr() method I found out the correlation between the columns. I found out a outlier in Rainfall, so that can be treated with lower value formula.\n",
    "\n",
    "\n",
    "3. Visualization:- \n",
    "Now visualize the data Rainfall and Humidity using a joint plot. Similarly other factors like pressure, cloud, temperature also visualize using the jointplot. I used count plot for categorical data like rainToday and RainTomorrow. I used a color scaled graph to visualize the correlation between the columns. For categorical data I used a pie chart for both Raintoday and RainTomorrow column.\n",
    "\n",
    "\n",
    "4. Prepare Data :- \n",
    "Now it's time to prepare the data and divide the data into the independent and dependent features. A stores the independent feature and B stores the dependent feature for univariate analysis. For multi variate analysis I used all the column except RainTomorrow column as X and for y I've used RainTomorrow column as it is a dependent variable.\n",
    "\n",
    "\n",
    "5. Split data into training and testing:- \n",
    "Split the data into the training and testing data using the train_test_split function which takes some of the parameters like A, B, random_state, test_size. A is an independent feature and B is the dependent feature. RandomState is used for randomly selecting the data, and test size used for dividing the data into the training and testing. Example: if test_size is 20% then automatically training size is 80%. train_test_split function return four parameters. They are A_train, A_test, B_train, B_test. A_train stores the independent feature and B_train stores the dependent feature and both A_train and B_train are used for training the model. A_test stores the independent feature and B_test stores the dependent feature and both A_test and B_test are used for testing the model and evaluating the model.\n",
    "\n",
    "\n",
    "6. Define model:- \n",
    "Now define the ClassificationTree model with default parameters and trained ClassificationTree model with training data (A_train and B_train ). And test the model using the testing data (A_test) and display the predicted and actual data.\n",
    "\n",
    "\n",
    "7. Plotting Classification tree:- \n",
    "Import the pydotplus and image library and create classification tree.\n",
    "\n",
    "8. Controlling tree growth:- \n",
    "Here I created another object for classification tree with specifying min_sample_leaf and max_depth to the classification tree.\n",
    "\n",
    "9. Check accuracy:- \n",
    "Check the accuracy of the model which is approximately 80% before controlling the tree and after specifying min_sample_leaf and max_depth the accuracy become 81% accurate on the testing data .\n",
    "\n",
    "MODEL-2(Ensemble Technique)\n",
    "\n",
    "The problem with normal decision tree is high variance that's why we use ensemble technique. That's why I used 3 ensemble techniques named as Bagging, Random Forest, and Boosting.\n",
    "\n",
    "Bagging:-\n",
    "\n",
    "Consider there are n observations and m features in the training set. You need to select a random sample from the training dataset without replacement. A subset of m features is chosen randomly to create a model using sample observation. The feature offering the best split out of the lot is used to split the nodes. The tree is grown, so you have the best root nodes. The above steps are repeated n times. It aggregates the output of individual decision trees to give the best prediction.\n",
    "\n",
    "(1)load library(2)create objectand fit the model(3)predict accuracy\n",
    "\n",
    "Random Forest:-\n",
    "\n",
    "Select random samples from a given data or training set. This algorithm will construct a decision tree for every training data. Voting will take place by averaging the decision tree. Finally, select the most voted prediction result as the final prediction result.\n",
    "\n",
    "(1)load library(2)create objectand fit the model(3)predict accuracy\n",
    "\n",
    "Boosting:-\n",
    "\n",
    "The base algorithm reads the data and assigns equal weight to each sample observation. False predictions made by the base learner are identified. In the next iteration, these false predictions are assigned to the next base learner with a higher weightage on these incorrect predictions. Repeat step 2 until the algorithm can correctly classify the output. The main aim of Boosting is to focus more on mis-classified predictions.\n",
    "\n",
    "(1)load library(2)create objectand fit the model(3)predict accuracy(4)create another object with less learning rate(5)fit the model(6)predict accuracy"
   ]
  },
  {
   "cell_type": "markdown",
   "id": "642baec2",
   "metadata": {},
   "source": [
    "3-WHAT WERE THE AVAILABLE ML MODEL OPTIONS YOU HAD TO PERFORM THIS TASK?"
   ]
  },
  {
   "cell_type": "markdown",
   "id": "898d765f",
   "metadata": {},
   "source": [
    "This is a RainFall prediction problem so basically it can be solved using classification, ensemble and regression technique. Regression Algorithms are used with continuous data. Classification Algorithms are used with discrete data. In Regression, we try to find the best fit line, which can predict the output more accurately. In Classification, we try to find the decision boundary, which can divide the dataset into different classes. Ensemble models are a machine learning approach to combine multiple other models in the prediction process. These models are referred to as base estimators. Ensemble models offer a solution to overcome the technical challenges of building a single estimator. Each type has its own importance on different scenarios, but at the core, all the regression methods analyze the effect of the independent variable on dependent variables. Here we are discussing some important types of machine learning models which are other model for Rainfall prediction given below:\n",
    "\n",
    "(1)Multivariate linear regression\n",
    "\n",
    "(2)Random Forest\n",
    "\n",
    "(3)XG Boost gradient descent\n",
    "\n",
    "(4)Logistic Regression\n",
    "\n",
    "(5)Decision Tree\n",
    "\n",
    "(6)K-Nearest Neighbor (K-NN)\n",
    "\n",
    "(7)Support Vector Machine(SVM)\n",
    "\n",
    "1-Multivariate linear regression (MLR)\n",
    "\n",
    "Linear regression can be multivariate which has multiple independent variables used as input features and simple linear regression which has only one independent or input feature. Both linear regressions have one dependent variable which can be forecasted or predicted based on the input features. This paper presented the multivariate linear regression because multiple environmental variables or features were used to predict the dependent variable called daily rainfall amount. Linear regression is a supervised machine learning technique used to predict the unknown daily rainfall amount using the known environmental variables. The multivariate linear regression used multiple explanatory or independent variables (X) and single dependent or output variable denoted by Y. The size of the data set collected from the meteorological station for this study was appropriate to use the machine learning algorithms called multivariate linear regression that can estimate the daily amount of rainfall in the region. This algorithm can show how strongly each environmental variable influences the intensity of the daily rainfall.\n",
    "\n",
    "2-Random forest (RF)\n",
    "\n",
    "A Random Forest Regression model is powerful and accurate. It usually performs great on many problems, including features with non-linear relationships. Random forest regression is a supervised machine learning algorithm that uses the ensemble learning method for regression. RF works by building several decision trees during training time and outputting the mean of the classes as the prediction of all the trees. The RF algorithm works on the following steps: a.Take at random p data points from the training set. b.Build a decision tree associated with these p data points. c.Take the number N of trees to build and repeat a and b steps. d.For a new data point, make each one of the N tree trees predict the value of y for the data point and assign the new data point to the average of all of the predicted y values. Random forest algorithm is one of the supervised machine learning algorithms that are selected as the predictive model for daily rainfall prediction using environmental input variables or features. Random forest regression is operated by constructing a multitude of decision trees at the training time and outputting the class that is the mode of mean prediction or regression of the individual trees. According to the RF algorithm, it is efficient for large datasets and a good experimental result is obtained using large datasets having a large proportion of the data is missing.\n",
    "\n",
    "3-XGBoost gradient descent\n",
    "\n",
    "XGBoost stands for eXtreme Gradient Boosting. It is a specific implementation of the Gradient Boosting method which uses more accurate approximations to find the best tree model. XGBoost is implemented for the supervised machine learning problem that has data with multiple features of xi to predict a target variable yi. Most authors use XGBoost for different regression and classification problems due to the speed and prediction accuracy of the algorithm. Extreme Gradient Boosting (XGBoost) is one of the efficient algorithms in the gradient descant that has a linear model algorithm and tree learning algorithm. It is faster than other gradient descent algorithms because of the parallel computation on a single machine. This paper chooses the XGBoosting algorithm for experiments to predict the target variable daily rainfall intensity using various input or dependent environmental variables. XGBoost is a powerful algorithm that is fast learning through parallel and distributed computing and offers efficient memory usage that produces a robust solution.\n",
    "\n",
    "4-Logistic Regression:-\n",
    "\n",
    "Logistic regression allows one to predict a discrete outcome, such as whether it will rain today or not from a set of variables that may be continuous, discrete, discontinuous, or mix of any of these. Generally, the dependent or response variable is discontinuous, such as presence/absence or success/failure, i.e., the dependent variable can take the value 0 or 1 with a probability of failure or success. This type of variable is called a Bernoulli (or binary) variable. Although not as common and not discussed in this paper, applications of logistic regression have also been extended to cases where the dependent variable is of more than two cases, known as multinomial or polytomous regression.\n",
    "\n",
    "5-Decision Tree:\n",
    "\n",
    "This classification algorithm that works on categorical as well as numerical data is a Decision tree algorithm. It creates tree-like structures and is very easy to implement, analyse the data in tree-shaped graph.This algorithm helps in splitting the data into two or more related sets based on the most important indicators. First, we calculate the entropy of each attribute and then the data is divided, with predictors having maximum information gain or minimum entropy: The results obtained are easier to read and interpret. This algorithm has higher accuracy in comparison to other algorithms as it analyses the dataset in the tree-like graph. Accuracy: It is the ratio of number of correct outputs to the total number of input samples. Precision: It is the number of correct positive correct results divided by the number of positive results predicted by the classifiers.\n",
    "\n",
    "6-K-Nearest Neighbor (K-NN): K-Nearest Neighbor is one of the simplest Machine Learning algorithms based on Supervised Learning technique. K-NN algorithm considers the similarity between the new case/data and available cases and put the new case into the category that is mostly related to the available categories. It classifies object dependent on nearest neighbor. It groups the named points and uses them on how to mark another point. The similar data is clustered and it is possible to fill the null values of data using K-NN. As soon as these missing values are filled, we apply ML techniques to the data set. It's possible to obtain better accuracy by utilizing various combinations of these algorithms.\n",
    "\n",
    "7-Support Vector Machine: Support Vector Machine is a supervised learning algorithm which can be used for regression as well as classification problems. So if we use it for classification problems, then it is termed as Support Vector classification. Support Vector is an algorithm which works for continuous as well as categorical variables.\n",
    "\n",
    "Kernel: It is a function used to map a lower-dimensional data into higher dimensional data. Hyperplane: In general SVM, it is a separation line between two classes, but in SVR, it is a line which helps to predict the continuous variables and cover most of the datapoints. Boundary line: Boundary lines are the two lines apart from hyperplane, which creates a margin for datapoints. Support vectors: Support vectors are the datapoints which are nearest to the hyperplane and opposite class.\n",
    "\n",
    "In SVR, we always try to determine a hyperplane with a maximum margin, so that maximum number of datapoints are covered in that margin. The main goal of SVR is to consider the maximum datapoints within the boundary lines and the hyperplane (best-fit line) must contain a maximum number of datapoints.\n"
   ]
  },
  {
   "cell_type": "markdown",
   "id": "692e8d58",
   "metadata": {},
   "source": [
    "4-WHICH MODEL'S PERFORMANCE IS BEST AND WHAT COULD BE THE POSSIBLE REASON FOR THAT?"
   ]
  },
  {
   "cell_type": "markdown",
   "id": "3c5b2bf0",
   "metadata": {},
   "source": [
    "Rainfall prediction is one of the challenging tasks in weather forecasting process. Accurate rainfall prediction is now more \n",
    "difficult than before due to the extreme climate variations. Machine learning techniques can predict rainfall by extracting \n",
    "hidden patterns from historical weather data. Selection of an appropriate classification technique for prediction is a difficult\n",
    "job.I used different machine learning model to find the best accuracy of the model.\n",
    "\n",
    "Although Rainfall prediction can be sovled by both regression and classification technique but the newpaper company\"The Daily \n",
    "Buzz\" is basically uses classification and ensemble technique to find the rainfall prediction of the city.Based on that i used \n",
    "classification technique such as classification tree and ensemble technique such as Boosting,Bagging and random Forest is used \n",
    "for my machine learning model.In esemble technique i used three sub method of boosting technique such as Gradient boosting,Ada boosting,XG Boosting.\n",
    "so let's come to our model performances,Classification tree give an accuracy of 81% ,bagging technique 83%,Random forest 84.13%,gradient boosting 84%,Ada boosting 83%,XG boost 84.58% .Random forest also perform well but we clearly see that XG boost perform well with our test data set and it gives the highest accuracy of our model i.e 84.58%.\n",
    "\n",
    "There are so many reason for which the model perform well some of them are listed below.\n",
    "\n",
    "Speed :– \n",
    "All algorithms are efficient in their training due to the ability to utilize multiple CPU cores for parallel operations. The training speed largely depends on the hyper-parameters, i.e., the number of learners, tree depth, etc., and the training data size.Since gradient of the data is considered for each tree, the calculation is faster and the precision is accurate than Random Forest.\n",
    "\n",
    "‍Accuracy and Overfitting :–\n",
    " The accuracy of XG Boost model is highest i.e 84.58% whereas other models have less accuracy for example classification tree has 82%,bagging has 83%,Random Forest has 84%,gradient boosting has 83%,ada boosting has 83%. The RF algorithm has high accuracy. However, the high accuracy came at the cost of over-fitting, causing the model to display poor performance in real-world scenarios. RFs tend to overfit when the sampled data presents similar data points to each tree. Developers can counter overfitting by pre-processing and cleaning the data, but the challenge remains for real-time use cases.\n",
    "The XGBoost algorithm does not construct trees to their full depth. It prunes trees at a certain point depending on the node's similarity score. It considers the “Gain” of a node as the difference between the similarity score of the node and its children and stops building the tree if the score is considered minimal. The smaller trees counter the overfitting problem and allow the model to generalize better. Countering overfitting means XGBoost models show better accuracies on test data making them better suited for real problems.XGBoost does not account for the number of leaves present in the algorithm. If the model predictability is not good, the algorithm performs better with more leaves in the decision tree. This improves the bias and the results completely depends on the data present in the algorithm.\n",
    "\n",
    "‍Hyperparameter Tuning :–\n",
    "XGBoost is a significantly complex algorithm compared to other and involves several parameters that can alter the performance.The hyperparameters for XGBoost are set only for the first tree. The rest of the trees adjust themselves with every iteration using the loss of the preceding tree and carrying out gradient descent. This is beneficial in cases where the input data is real-time and displays high variation. A model whose parameters adjust itself iteratively (XGBoost) will learn better from streaming data than one with a fixed set of parameters for the entire ensemble (Random Forest).\n",
    "\n",
    "‍Working With Unbalanced Data :–\n",
    "The XGBoost model performs better than any other model, when we have a class imbalance. The boosting algorithm iteratively learns from the mistakes of the previous tree. So if a tree fails to predict a class (most likely the imbalanced class), the proceeding tree will give more weightage to this sample. Intuitively, this attempts to equalize the model by giving more weightage to less represented categories. The other algorithm does not have any such mechanism to handle data imbalance.XGBoost builds one tree at a time so that each data pertaining to the decision tree is taken into account and the data is filled if there are any missing data. This helps developers to work with gradient algorithms along with the decision tree algorithm for better results.With accurate results, XGBoost is hard to work with if there are lots of noise. Also, it is hard to tune as well. If the data is real-time so the data is unbalanced, we can use XGBoost where it performs exceptionally well.\n",
    "\n",
    "Minimal loss function:-\n",
    "XGBoost helps in numerical optimization where the loss function of the data is minimized with the help of weak learners so that iteration happens in the local function in a differentiable manner. Sample is not modified here but different levels of importance are given to each feature in the data. Random Forest is mostly a bagging technique where various subsets are considered and an average of each subset is calculated. Either random subset of features or bootstrap samples of data is taken for each experiment in the data."
   ]
  },
  {
   "cell_type": "markdown",
   "id": "6643bcb2",
   "metadata": {},
   "source": [
    "WHAT STEPS CAN YOU TAKE TO IMPOROVE THIS SELECTED MODEL'S PERFORMANCE EVEN FORTHER?"
   ]
  },
  {
   "cell_type": "markdown",
   "id": "43e74fb5",
   "metadata": {},
   "source": [
    "Extreme gradient boosting, or XGBoost, is an efficient open-source implementation of the gradient boosting algorithm. This method is popular for classification and regression problems using tabular datasets because of its execution speed and model performance. But the XGBoost training process can be time consuming.\n",
    "\n",
    "General Approach for Improving Model performance\n",
    "\n",
    "(1)Parameter Tuning\n",
    "\n",
    "(2)Tree method (gpu_hist)\n",
    "\n",
    "(3) Cloud training\n",
    "\n",
    "(4)Distributed XGBoost on Ray\n",
    "\n",
    "(1)Parameter Tuning:- Choose a relatively high learning rate. Generally, a learning rate of 0.1 works, but somewhere between 0.05 to 0.3 should work for different problems. Determine the optimum number of trees for this learning rate. XGBoost has a very useful function called “cv” which performs cross-validation at each boosting iteration and thus returns the optimum number of trees required. Tune tree-specific parameters (max_depth, min_child_weight, gamma, subsample, colsample_bytree) for the decided learning rate and the number of trees. Note that we can choose different parameters to define a tree, and I’ll take up an example here. Tune regularization parameters (lambda, alpha) for xgboost, which can help reduce model complexity and enhance performance. Lower the learning rate and decide the optimal parameters.\n",
    "\n",
    "(2)Tree method:-\n",
    "\n",
    "The tree method parameter sets the algorithm used by XGBoost to build boosted trees. By default, an approx algorithm is used, which doesn’t offer the best performance. Switching to the hist algorithm improves performance. However, because both of those algorithms only use the central processing unit (CPU), neither offers outstanding performance overall. By enabling the gpu_hist algorithm, you can train your XGBoost using the graphics processing unit (GPU). This is because running models on the GPU can save a great deal of time compared to running them on the CPU. Note that when training XGBoost, you can set the depth to which the tree may grow. Bigger trees can be better model complex interactions between features, but if they are too deep, they may cause overfitting. Bigger trees also take longer to train. There are also multiple other hyperparameters that control the training process. Finding the best set of hyperparameters for your problem should be automated with a tool like HyperOpt, Optuna, or Ray Tune.\n",
    "\n",
    "(3)The cloud:-\n",
    "\n",
    "Tweaking the tree method is ideal for using our local GPUs to train XGBoost models, but other ways can be more effective. The solution hides in the cloud. Cloud computing allows us to access much more powerful GPUs and in greater numbers than we have available locally. However, this comes at a cost. These cloud GPU providers aren’t free, but there are options for training on powerful GPUs, such as the pay-as-you-go solution. This gives you the right to shut down training instances when you finish training, meaning you only pay when you’re using them.\n",
    "\n",
    "(4)Distributed XGBoost training with Ray:-\n",
    "\n",
    "It’s possible to speed up the training of XGBoost on a large dataset by either using a GPU-enabled tree method or a cloud-hosted solution like AWS or Google Cloud. In addition to these two options, there’s a third — and better — solution: distributed XGBoost on Ray, or XGBoost-Ray for short. XGBoost-Ray is a distributed learning Python library for XGBoost, built on a distributed computing framework called Ray. XGBoost-Ray allows the effortless distribution of training in a cluster with hundreds of nodes. It also provides various advanced features, such as fault tolerance, elastic training, and integration with Ray Tune for hyperparameter optimization. The default implementation of XGBoost can only use one GPU and CPU on a single machine. In order to leverage more resources, it’s necessary to use a distributed training method like XGBoost-Ray. Furthermore, if you are working with datasets that are too big to fit in memory of a single machine, distributed training is necessary.\n"
   ]
  },
  {
   "cell_type": "code",
   "execution_count": null,
   "id": "25ee4df2",
   "metadata": {},
   "outputs": [],
   "source": []
  }
 ],
 "metadata": {
  "kernelspec": {
   "display_name": "Python 3 (ipykernel)",
   "language": "python",
   "name": "python3"
  },
  "language_info": {
   "codemirror_mode": {
    "name": "ipython",
    "version": 3
   },
   "file_extension": ".py",
   "mimetype": "text/x-python",
   "name": "python",
   "nbconvert_exporter": "python",
   "pygments_lexer": "ipython3",
   "version": "3.9.12"
  }
 },
 "nbformat": 4,
 "nbformat_minor": 5
}
